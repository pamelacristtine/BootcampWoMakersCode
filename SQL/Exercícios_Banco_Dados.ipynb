{
 "cells": [
  {
   "cell_type": "code",
   "execution_count": 23,
   "metadata": {
    "id": "FTht0V4f1WAI"
   },
   "outputs": [],
   "source": [
    "import sqlite3"
   ]
  },
  {
   "cell_type": "code",
   "execution_count": null,
   "metadata": {},
   "outputs": [],
   "source": [
    "## QUESTÃO 1 e 2"
   ]
  },
  {
   "cell_type": "code",
   "execution_count": 44,
   "metadata": {
    "colab": {
     "base_uri": "https://localhost:8080/",
     "height": 220
    },
    "id": "eIVd_qgr5Vpn",
    "outputId": "3c2dd552-2126-4447-af65-d233a7e8d4e7"
   },
   "outputs": [],
   "source": [
    "conexao= sqlite3.connect('DB_Cursos_BC')\n",
    "cursor= conexao.cursor()\n",
    "\n",
    "## Criação da Tabela alunos no banco de dados\n",
    "\n",
    "cursor.execute('CREATE TABLE alunos(id INT, nome VARCHAR(100), idade INT, curso VARCHAR(100))')\n",
    "\n",
    "## Insert na tabela alunos \n",
    "\n",
    "cursor.execute('INSERT INTO alunos(id,nome,idade,curso) VALUES (1, \"Pâmela J.\", 30, \"Engenharia\")')\n",
    "cursor.execute('INSERT INTO alunos(id,nome,idade,curso) VALUES (2, \"Paula B.\", 22, \"Engenharia\")')#cursor.execute('INSERT INTO alunos(id,nome,idade,curso) VALUES (3, \"João T.\", 27, \"Nutrição\")')\n",
    "cursor.execute('INSERT INTO alunos(id,nome,idade,curso) VALUES (3, \"Juan A.\", 24, \"Engenharia\")')\n",
    "cursor.execute('INSERT INTO alunos(id,nome,idade,curso) VALUES (4, \"Maria Luiza A.\", 23, \"Medicina\")')\n",
    "cursor.execute('INSERT INTO alunos(id,nome,idade,curso) VALUES (5, \"Pedro J.\", 24, \"Matemática\")')\n",
    "cursor.execute('INSERT INTO alunos(id,nome,idade,curso) VALUES (6, \"Matheus F.\", 32, \"Direito\")')\n",
    "cursor.execute('INSERT INTO alunos(id,nome,idade,curso) VALUES (7, \"Marlene T.\", 45, \"Matemática\")')\n",
    "cursor.execute('INSERT INTO alunos(id,nome,idade,curso) VALUES (8, \"Juliana M.\", 21, \"Direito\")')\n",
    "cursor.execute('INSERT INTO alunos(id,nome,idade,curso) VALUES (9, \"Fabio F.\", 20, \"Administração\")')\n",
    "cursor.execute('INSERT INTO alunos(id,nome,idade,curso) VALUES (10, \"Pedro M.\", 35, \"Engenharia\")')\n",
    "cursor.execute('INSERT INTO alunos(id,nome,idade,curso) VALUES (11, \"Letícia S.\", 28, \"Física\")')\n",
    "cursor.execute('INSERT INTO alunos(id,nome,idade,curso) VALUES (12, \"Marcus G.\", 23, \"Biologia\")')\n",
    "cursor.execute('INSERT INTO alunos(id,nome,idade,curso) VALUES (13, \"Tatiana M.\", 26, \"Ciência da Computação\")')\n",
    "cursor.execute('INSERT INTO alunos(id,nome,idade,curso) VALUES (14, \"Talles K.\", 19, \"Engenharia\")')\n",
    "cursor.execute('INSERT INTO alunos(id,nome,idade,curso) VALUES (15, \"Viviane V.\", 18, \"Engenharia\")')\n",
    "\n",
    "\n",
    "conexao.commit()\n",
    "conexao.close()"
   ]
  },
  {
   "cell_type": "code",
   "execution_count": null,
   "metadata": {},
   "outputs": [],
   "source": [
    "## QUESTÃO 3 (a, b, c e d) "
   ]
  },
  {
   "cell_type": "code",
   "execution_count": 54,
   "metadata": {},
   "outputs": [
    {
     "name": "stdout",
     "output_type": "stream",
     "text": [
      "Todos os registros da tabela alunos: \n",
      "\n",
      "(1, 'Pâmela J.', 30, 'Engenharia')\n",
      "(2, 'Paula B.', 22, 'Engenharia')\n",
      "(3, 'Juan A.', 24, 'Engenharia')\n",
      "(4, 'Maria Luiza A.', 23, 'Medicina')\n",
      "(5, 'Pedro J.', 24, 'Matemática')\n",
      "(6, 'Matheus F.', 32, 'Direito')\n",
      "(7, 'Marlene T.', 45, 'Matemática')\n",
      "(8, 'Juliana M.', 21, 'Direito')\n",
      "(9, 'Fabio F.', 20, 'Administração')\n",
      "(10, 'Pedro M.', 35, 'Engenharia')\n",
      "(11, 'Letícia S.', 28, 'Física')\n",
      "(12, 'Marcus G.', 23, 'Biologia')\n",
      "(13, 'Tatiana M.', 26, 'Ciência da Computação')\n",
      "(14, 'Talles K.', 19, 'Engenharia')\n",
      "(15, 'Viviane V.', 18, 'Engenharia')\n",
      "\n",
      "\n",
      "Alunos com mais de 20 anos: \n",
      "\n",
      "('Pâmela J.', 30)\n",
      "('Paula B.', 22)\n",
      "('Juan A.', 24)\n",
      "('Maria Luiza A.', 23)\n",
      "('Pedro J.', 24)\n",
      "('Matheus F.', 32)\n",
      "('Marlene T.', 45)\n",
      "('Juliana M.', 21)\n",
      "('Pedro M.', 35)\n",
      "('Letícia S.', 28)\n",
      "('Marcus G.', 23)\n",
      "('Tatiana M.', 26)\n",
      "\n",
      "\n",
      "Alunos da Engenharia em ordem alfabética: \n",
      "\n",
      "(3, 'Juan A.', 24, 'Engenharia')\n",
      "(2, 'Paula B.', 22, 'Engenharia')\n",
      "(10, 'Pedro M.', 35, 'Engenharia')\n",
      "(1, 'Pâmela J.', 30, 'Engenharia')\n",
      "(14, 'Talles K.', 19, 'Engenharia')\n",
      "(15, 'Viviane V.', 18, 'Engenharia')\n",
      "\n",
      "\n",
      "Contagem total de alunos da tabela: \n",
      "\n",
      "15\n"
     ]
    }
   ],
   "source": [
    "conexao= sqlite3.connect('DB_Cursos_BC')\n",
    "cursor= conexao.cursor()\n",
    "\n",
    "### Consultas Básicas (Todos os registros da tabela alunos)\n",
    "\n",
    "dados= cursor.execute('SELECT * FROM  alunos')\n",
    "print('Todos os registros da tabela alunos: \\n')\n",
    "\n",
    "for usuario in dados:\n",
    "    print(usuario)\n",
    "\n",
    "\n",
    "print('\\n')\n",
    "    \n",
    "\n",
    "### Consultas Básicas (Alunos com mais de 20 anos)\n",
    "\n",
    "dados= cursor.execute('SELECT nome, idade FROM  alunos where idade > 20')\n",
    "\n",
    "print('Alunos com mais de 20 anos: \\n')\n",
    "\n",
    "for usuario in dados:\n",
    "    print(usuario)\n",
    "\n",
    "print('\\n')\n",
    "    \n",
    "    \n",
    "### Consultas Básicas (Alunos Engenharia | Ordem Alfabética)\n",
    "\n",
    "dados= cursor.execute('SELECT * FROM  alunos where curso = \"Engenharia\"  order by nome asc')\n",
    "\n",
    "print('Alunos da Engenharia em ordem alfabética: \\n')\n",
    "\n",
    "for usuario in dados:\n",
    "    print(usuario)\n",
    "\n",
    "print('\\n')\n",
    "\n",
    "### Consultas Básicas (Contagem total de alunos da tabela)\n",
    "\n",
    "cursor.execute('SELECT COUNT(id) FROM  alunos')\n",
    "\n",
    "print('Contagem total de alunos da tabela: \\n')\n",
    "\n",
    "count= cursor.fetchone()[0]\n",
    "print(count)\n",
    "\n",
    "\n",
    "conexao.commit()\n",
    "conexao.close()"
   ]
  },
  {
   "cell_type": "code",
   "execution_count": null,
   "metadata": {},
   "outputs": [],
   "source": [
    "## QUESTÃO 4"
   ]
  },
  {
   "cell_type": "code",
   "execution_count": 57,
   "metadata": {},
   "outputs": [],
   "source": [
    "conexao= sqlite3.connect('DB_Cursos_BC')\n",
    "cursor= conexao.cursor()\n",
    "\n",
    "### Atualização da idade\n",
    "\n",
    "cursor.execute('UPDATE alunos SET idade= 23 where id=3')\n",
    "\n",
    "### Remover um aluno pelo id\n",
    "\n",
    "cursor.execute('DELETE FROM alunos where id=6')\n",
    "\n",
    "conexao.commit()\n",
    "conexao.close()"
   ]
  },
  {
   "cell_type": "code",
   "execution_count": null,
   "metadata": {},
   "outputs": [],
   "source": [
    "## QUESTÃO 5"
   ]
  },
  {
   "cell_type": "code",
   "execution_count": 64,
   "metadata": {},
   "outputs": [],
   "source": [
    "conexao= sqlite3.connect('DB_Cursos_BC')\n",
    "cursor= conexao.cursor()\n",
    "\n",
    "## Criação da Tabela clientes no banco de dados\n",
    "\n",
    "cursor.execute('CREATE TABLE clientes(id INT PRIMARY KEY , nome VARCHAR(100), idade INT, saldo FLOAT)')\n",
    "\n",
    "## Insert na tabela clientes\n",
    "\n",
    "cursor.execute('INSERT INTO clientes(id,nome,idade,saldo) VALUES (1, \"Pâmela J.\", 30, 5300.30)')\n",
    "cursor.execute('INSERT INTO clientes(id,nome,idade,saldo) VALUES (2, \"Paula B.\", 22, 4258.02)')\n",
    "cursor.execute('INSERT INTO clientes(id,nome,idade,saldo) VALUES (3, \"Juan A.\", 24, 3697.57)')\n",
    "cursor.execute('INSERT INTO clientes(id,nome,idade,saldo) VALUES (4, \"Maria Luiza A.\", 23, 10325.89)')\n",
    "cursor.execute('INSERT INTO clientes(id,nome,idade,saldo) VALUES (5, \"Pedro J.\", 24, 2359.74)')\n",
    "cursor.execute('INSERT INTO clientes(id,nome,idade,saldo) VALUES (6, \"Matheus F.\", 32, 1235.40)')\n",
    "cursor.execute('INSERT INTO clientes(id,nome,idade,saldo) VALUES (7, \"Marlene T.\", 45, 25328.97)')\n",
    "cursor.execute('INSERT INTO clientes(id,nome,idade,saldo) VALUES (8, \"Juliana M.\", 21, 7325.48)')\n",
    "cursor.execute('INSERT INTO clientes(id,nome,idade,saldo) VALUES (9, \"Fabio F.\", 20, 532.45)')\n",
    "cursor.execute('INSERT INTO clientes(id,nome,idade,saldo) VALUES (10, \"Pedro M.\", 35, 329.88)')\n",
    "cursor.execute('INSERT INTO clientes(id,nome,idade,saldo) VALUES (11, \"Letícia S.\", 28, 9587.42)')\n",
    "cursor.execute('INSERT INTO clientes(id,nome,idade,saldo) VALUES (12, \"Marcus G.\", 23, 35763.68)')\n",
    "cursor.execute('INSERT INTO clientes(id,nome,idade,saldo) VALUES (13, \"Tatiana M.\", 26, 5238.78)')\n",
    "cursor.execute('INSERT INTO clientes(id,nome,idade,saldo) VALUES (14, \"Talles K.\", 19, 1345.98)')\n",
    "cursor.execute('INSERT INTO clientes(id,nome,idade,saldo) VALUES (15, \"Viviane V.\", 18, 6758.50)')\n",
    "\n",
    "\n",
    "conexao.commit()\n",
    "conexao.close()"
   ]
  },
  {
   "cell_type": "code",
   "execution_count": null,
   "metadata": {},
   "outputs": [],
   "source": [
    "## QUESTÃO 6 (a, b, c e d) "
   ]
  },
  {
   "cell_type": "code",
   "execution_count": 76,
   "metadata": {},
   "outputs": [
    {
     "name": "stdout",
     "output_type": "stream",
     "text": [
      "Clientes com mais de 30 anos: \n",
      "\n",
      "('Matheus F.', 32)\n",
      "('Marlene T.', 45)\n",
      "('Pedro M.', 35)\n",
      "\n",
      "\n",
      "Saldo médio dos clientes é de: \n",
      "\n",
      "7959.2\n",
      "\n",
      "\n",
      "Cliente com o maior saldo é: \n",
      "\n",
      "[(12, 'Marcus G.', 35763.68)]\n",
      "\n",
      "\n",
      "Total de clientes com saldo acima de 1000: \n",
      "\n",
      "13\n"
     ]
    }
   ],
   "source": [
    "conexao= sqlite3.connect('DB_Cursos_BC')\n",
    "cursor= conexao.cursor()\n",
    "\n",
    "\n",
    "### Clientes com mais de 30 anos)\n",
    "\n",
    "dados= cursor.execute('SELECT nome, idade FROM  clientes where idade > 30')\n",
    "\n",
    "print('Clientes com mais de 30 anos: \\n')\n",
    "\n",
    "for usuario in dados:\n",
    "    print(usuario)\n",
    "\n",
    "print('\\n')\n",
    "    \n",
    "    \n",
    "### Saldo Médio dos Clientes\n",
    "\n",
    "dados= cursor.execute('SELECT AVG(saldo) FROM  clientes')\n",
    "\n",
    "print('Saldo médio dos clientes é de: \\n')\n",
    "\n",
    "dados= round(cursor.fetchone()[0],2)\n",
    "print(dados)\n",
    "\n",
    "print('\\n')\n",
    "\n",
    "\n",
    "### Cliente com saldo máximo\n",
    "\n",
    "cursor.execute('SELECT id, nome, max(saldo) as maior_saldo FROM clientes')\n",
    "\n",
    "\n",
    "print('Cliente com o maior saldo é: \\n')\n",
    "\n",
    "max_saldo= cursor.fetchall() \n",
    "\n",
    "print(max_saldo)\n",
    "\n",
    "print('\\n')\n",
    "\n",
    "\n",
    "### Quantos clientes tem saldo acima de 1000\n",
    "\n",
    "cursor.execute('SELECT COUNT(id) FROM clientes where saldo > 1000.00')\n",
    "\n",
    "print('Total de clientes com saldo acima de 1000: \\n')\n",
    "\n",
    "count= cursor.fetchone()[0]\n",
    "print(count)\n",
    "\n",
    "\n",
    "\n",
    "conexao.commit()\n",
    "conexao.close()"
   ]
  },
  {
   "cell_type": "code",
   "execution_count": null,
   "metadata": {},
   "outputs": [],
   "source": [
    "## QUESTÃO 7"
   ]
  },
  {
   "cell_type": "code",
   "execution_count": 79,
   "metadata": {},
   "outputs": [],
   "source": [
    "conexao= sqlite3.connect('DB_Cursos_BC')\n",
    "cursor= conexao.cursor()\n",
    "\n",
    "### Atualização do saldo\n",
    "\n",
    "cursor.execute('UPDATE clientes SET saldo= 12359.74 where id=5')\n",
    "\n",
    "### Remover um cliente pelo id\n",
    "\n",
    "cursor.execute('DELETE FROM clientes where id=14')\n",
    "\n",
    "conexao.commit()\n",
    "conexao.close()"
   ]
  },
  {
   "cell_type": "code",
   "execution_count": null,
   "metadata": {},
   "outputs": [],
   "source": [
    "## QUESTÃO 8"
   ]
  },
  {
   "cell_type": "code",
   "execution_count": 82,
   "metadata": {},
   "outputs": [],
   "source": [
    "\n",
    "###Criação da tabela compras\n",
    "\n",
    "conexao= sqlite3.connect('DB_Cursos_BC')\n",
    "cursor= conexao.cursor()\n",
    "\n",
    "## Criação da Tabela compras no banco de dados\n",
    "\n",
    "cursor.execute('CREATE TABLE compras(id INT PRIMARY KEY, cliente_id INT, produto VARCHAR(100), valor REAL, FOREIGN KEY(cliente_id) REFERENCES clientes(id))')\n",
    "\n",
    "## Insert na tabela compras\n",
    "\n",
    "cursor.execute('INSERT INTO compras(id,cliente_id,produto,valor) VALUES (101, 3, \"Calça\", 100.30)')\n",
    "cursor.execute('INSERT INTO compras(id,cliente_id,produto,valor) VALUES (102, 1, \"Camisa\", 42.90)')\n",
    "cursor.execute('INSERT INTO compras(id,cliente_id,produto,valor) VALUES (103, 5, \"Sapatos\", 97.87)')\n",
    "cursor.execute('INSERT INTO compras(id,cliente_id,produto,valor) VALUES (104, 8, \"Acessórios\", 33.57)')\n",
    "cursor.execute('INSERT INTO compras(id,cliente_id,produto,valor) VALUES (105, 11, \"Cinto\", 28.75)')\n",
    "cursor.execute('INSERT INTO compras(id,cliente_id,produto,valor) VALUES (106, 12, \"Vestido\", 325.00)')\n",
    "cursor.execute('INSERT INTO compras(id,cliente_id,produto,valor) VALUES (107, 12, \"Saia\", 253.37)')\n",
    "cursor.execute('INSERT INTO compras(id,cliente_id,produto,valor) VALUES (108, 3, \"Short\", 83.80)')\n",
    "cursor.execute('INSERT INTO compras(id,cliente_id,produto,valor) VALUES (109, 13, \"Legging\", 32.50)')\n",
    "cursor.execute('INSERT INTO compras(id,cliente_id,produto,valor) VALUES (110, 5, \"Tênis\", 145.80)')\n",
    "\n",
    "\n",
    "conexao.commit()\n",
    "conexao.close()\n"
   ]
  },
  {
   "cell_type": "code",
   "execution_count": 83,
   "metadata": {},
   "outputs": [
    {
     "name": "stdout",
     "output_type": "stream",
     "text": [
      "('Juan A.', 'Calça', 100.3)\n",
      "('Pâmela J.', 'Camisa', 42.9)\n",
      "('Pedro J.', 'Sapatos', 97.87)\n",
      "('Juliana M.', 'Acessórios', 33.57)\n",
      "('Letícia S.', 'Cinto', 28.75)\n",
      "('Marcus G.', 'Vestido', 325.0)\n",
      "('Marcus G.', 'Saia', 253.37)\n",
      "('Juan A.', 'Short', 83.8)\n",
      "('Tatiana M.', 'Legging', 32.5)\n",
      "('Pedro J.', 'Tênis', 145.8)\n"
     ]
    }
   ],
   "source": [
    "#Junção de Tabelas \n",
    "\n",
    "conexao= sqlite3.connect('DB_Cursos_BC')\n",
    "cursor= conexao.cursor()\n",
    "\n",
    "dados= cursor.execute('select a.nome,c.produto, c.valor from clientes a inner join compras c on (a.id = c.cliente_id)')\n",
    "\n",
    "for usuario in dados:\n",
    "    print(usuario)\n",
    "\n",
    "    \n",
    "conexao.commit()\n",
    "conexao.close()\n"
   ]
  }
 ],
 "metadata": {
  "colab": {
   "provenance": []
  },
  "kernelspec": {
   "display_name": "Python 3 (ipykernel)",
   "language": "python",
   "name": "python3"
  },
  "language_info": {
   "codemirror_mode": {
    "name": "ipython",
    "version": 3
   },
   "file_extension": ".py",
   "mimetype": "text/x-python",
   "name": "python",
   "nbconvert_exporter": "python",
   "pygments_lexer": "ipython3",
   "version": "3.9.13"
  }
 },
 "nbformat": 4,
 "nbformat_minor": 1
}
