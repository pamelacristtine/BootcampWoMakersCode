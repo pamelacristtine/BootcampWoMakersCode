{
  "nbformat": 4,
  "nbformat_minor": 0,
  "metadata": {
    "colab": {
      "provenance": []
    },
    "kernelspec": {
      "name": "python3",
      "display_name": "Python 3"
    },
    "language_info": {
      "name": "python"
    }
  },
  "cells": [
    {
      "cell_type": "code",
      "execution_count": null,
      "metadata": {
        "id": "q8ZJM-xxqskg"
      },
      "outputs": [],
      "source": [
        "import pandas as pd\n",
        "import matplotlib.pyplot as plt\n",
        "import numpy as np\n",
        "import seaborn as sns\n",
        "from scipy.stats import norm,binom\n",
        "from scipy.stats import poisson\n",
        "cor = sns.color_palette(\"pink\", 5)\n"
      ]
    },
    {
      "cell_type": "code",
      "source": [
        "#Leitura do DataFrame\n",
        "pop_br = 'populacao_brasileira.csv'\n",
        "\n",
        "# Leitura do arquivo CSV\n",
        "df_pop_br = pd.read_csv(pop_br)\n",
        "\n",
        "df_pop_br = df_pop_br.drop('Unnamed: 0', axis=1)\n",
        "\n",
        "#Imprimir na tela o DataFrame\n",
        "display(df_pop_br.head())\n"
      ],
      "metadata": {
        "colab": {
          "base_uri": "https://localhost:8080/",
          "height": 206
        },
        "id": "vrlar_cPrFnU",
        "outputId": "6417b020-da54-4eec-bdbe-a14531c98eef"
      },
      "execution_count": null,
      "outputs": [
        {
          "output_type": "display_data",
          "data": {
            "text/plain": [
              "  estado  idade escolaridade nível de proficiência em inglês    renda sexo\n",
              "0     MA     56  Fundamental                   Intermediário  4006.29    F\n",
              "1     BA     46     Superior                          Básico  2423.11    M\n",
              "2     AM     32  Fundamental                   Intermediário  3835.69    M\n",
              "3     CE     60     Superior                          Básico  1870.29    M\n",
              "4     SE     25  Fundamental                        Avançado  3529.80    M"
            ],
            "text/html": [
              "\n",
              "  <div id=\"df-386949d6-84b1-413e-97ac-ff5aa026bd00\" class=\"colab-df-container\">\n",
              "    <div>\n",
              "<style scoped>\n",
              "    .dataframe tbody tr th:only-of-type {\n",
              "        vertical-align: middle;\n",
              "    }\n",
              "\n",
              "    .dataframe tbody tr th {\n",
              "        vertical-align: top;\n",
              "    }\n",
              "\n",
              "    .dataframe thead th {\n",
              "        text-align: right;\n",
              "    }\n",
              "</style>\n",
              "<table border=\"1\" class=\"dataframe\">\n",
              "  <thead>\n",
              "    <tr style=\"text-align: right;\">\n",
              "      <th></th>\n",
              "      <th>estado</th>\n",
              "      <th>idade</th>\n",
              "      <th>escolaridade</th>\n",
              "      <th>nível de proficiência em inglês</th>\n",
              "      <th>renda</th>\n",
              "      <th>sexo</th>\n",
              "    </tr>\n",
              "  </thead>\n",
              "  <tbody>\n",
              "    <tr>\n",
              "      <th>0</th>\n",
              "      <td>MA</td>\n",
              "      <td>56</td>\n",
              "      <td>Fundamental</td>\n",
              "      <td>Intermediário</td>\n",
              "      <td>4006.29</td>\n",
              "      <td>F</td>\n",
              "    </tr>\n",
              "    <tr>\n",
              "      <th>1</th>\n",
              "      <td>BA</td>\n",
              "      <td>46</td>\n",
              "      <td>Superior</td>\n",
              "      <td>Básico</td>\n",
              "      <td>2423.11</td>\n",
              "      <td>M</td>\n",
              "    </tr>\n",
              "    <tr>\n",
              "      <th>2</th>\n",
              "      <td>AM</td>\n",
              "      <td>32</td>\n",
              "      <td>Fundamental</td>\n",
              "      <td>Intermediário</td>\n",
              "      <td>3835.69</td>\n",
              "      <td>M</td>\n",
              "    </tr>\n",
              "    <tr>\n",
              "      <th>3</th>\n",
              "      <td>CE</td>\n",
              "      <td>60</td>\n",
              "      <td>Superior</td>\n",
              "      <td>Básico</td>\n",
              "      <td>1870.29</td>\n",
              "      <td>M</td>\n",
              "    </tr>\n",
              "    <tr>\n",
              "      <th>4</th>\n",
              "      <td>SE</td>\n",
              "      <td>25</td>\n",
              "      <td>Fundamental</td>\n",
              "      <td>Avançado</td>\n",
              "      <td>3529.80</td>\n",
              "      <td>M</td>\n",
              "    </tr>\n",
              "  </tbody>\n",
              "</table>\n",
              "</div>\n",
              "    <div class=\"colab-df-buttons\">\n",
              "\n",
              "  <div class=\"colab-df-container\">\n",
              "    <button class=\"colab-df-convert\" onclick=\"convertToInteractive('df-386949d6-84b1-413e-97ac-ff5aa026bd00')\"\n",
              "            title=\"Convert this dataframe to an interactive table.\"\n",
              "            style=\"display:none;\">\n",
              "\n",
              "  <svg xmlns=\"http://www.w3.org/2000/svg\" height=\"24px\" viewBox=\"0 -960 960 960\">\n",
              "    <path d=\"M120-120v-720h720v720H120Zm60-500h600v-160H180v160Zm220 220h160v-160H400v160Zm0 220h160v-160H400v160ZM180-400h160v-160H180v160Zm440 0h160v-160H620v160ZM180-180h160v-160H180v160Zm440 0h160v-160H620v160Z\"/>\n",
              "  </svg>\n",
              "    </button>\n",
              "\n",
              "  <style>\n",
              "    .colab-df-container {\n",
              "      display:flex;\n",
              "      gap: 12px;\n",
              "    }\n",
              "\n",
              "    .colab-df-convert {\n",
              "      background-color: #E8F0FE;\n",
              "      border: none;\n",
              "      border-radius: 50%;\n",
              "      cursor: pointer;\n",
              "      display: none;\n",
              "      fill: #1967D2;\n",
              "      height: 32px;\n",
              "      padding: 0 0 0 0;\n",
              "      width: 32px;\n",
              "    }\n",
              "\n",
              "    .colab-df-convert:hover {\n",
              "      background-color: #E2EBFA;\n",
              "      box-shadow: 0px 1px 2px rgba(60, 64, 67, 0.3), 0px 1px 3px 1px rgba(60, 64, 67, 0.15);\n",
              "      fill: #174EA6;\n",
              "    }\n",
              "\n",
              "    .colab-df-buttons div {\n",
              "      margin-bottom: 4px;\n",
              "    }\n",
              "\n",
              "    [theme=dark] .colab-df-convert {\n",
              "      background-color: #3B4455;\n",
              "      fill: #D2E3FC;\n",
              "    }\n",
              "\n",
              "    [theme=dark] .colab-df-convert:hover {\n",
              "      background-color: #434B5C;\n",
              "      box-shadow: 0px 1px 3px 1px rgba(0, 0, 0, 0.15);\n",
              "      filter: drop-shadow(0px 1px 2px rgba(0, 0, 0, 0.3));\n",
              "      fill: #FFFFFF;\n",
              "    }\n",
              "  </style>\n",
              "\n",
              "    <script>\n",
              "      const buttonEl =\n",
              "        document.querySelector('#df-386949d6-84b1-413e-97ac-ff5aa026bd00 button.colab-df-convert');\n",
              "      buttonEl.style.display =\n",
              "        google.colab.kernel.accessAllowed ? 'block' : 'none';\n",
              "\n",
              "      async function convertToInteractive(key) {\n",
              "        const element = document.querySelector('#df-386949d6-84b1-413e-97ac-ff5aa026bd00');\n",
              "        const dataTable =\n",
              "          await google.colab.kernel.invokeFunction('convertToInteractive',\n",
              "                                                    [key], {});\n",
              "        if (!dataTable) return;\n",
              "\n",
              "        const docLinkHtml = 'Like what you see? Visit the ' +\n",
              "          '<a target=\"_blank\" href=https://colab.research.google.com/notebooks/data_table.ipynb>data table notebook</a>'\n",
              "          + ' to learn more about interactive tables.';\n",
              "        element.innerHTML = '';\n",
              "        dataTable['output_type'] = 'display_data';\n",
              "        await google.colab.output.renderOutput(dataTable, element);\n",
              "        const docLink = document.createElement('div');\n",
              "        docLink.innerHTML = docLinkHtml;\n",
              "        element.appendChild(docLink);\n",
              "      }\n",
              "    </script>\n",
              "  </div>\n",
              "\n",
              "\n",
              "<div id=\"df-7f6314d4-732e-4105-a00f-9a3343ae6d47\">\n",
              "  <button class=\"colab-df-quickchart\" onclick=\"quickchart('df-7f6314d4-732e-4105-a00f-9a3343ae6d47')\"\n",
              "            title=\"Suggest charts\"\n",
              "            style=\"display:none;\">\n",
              "\n",
              "<svg xmlns=\"http://www.w3.org/2000/svg\" height=\"24px\"viewBox=\"0 0 24 24\"\n",
              "     width=\"24px\">\n",
              "    <g>\n",
              "        <path d=\"M19 3H5c-1.1 0-2 .9-2 2v14c0 1.1.9 2 2 2h14c1.1 0 2-.9 2-2V5c0-1.1-.9-2-2-2zM9 17H7v-7h2v7zm4 0h-2V7h2v10zm4 0h-2v-4h2v4z\"/>\n",
              "    </g>\n",
              "</svg>\n",
              "  </button>\n",
              "\n",
              "<style>\n",
              "  .colab-df-quickchart {\n",
              "      --bg-color: #E8F0FE;\n",
              "      --fill-color: #1967D2;\n",
              "      --hover-bg-color: #E2EBFA;\n",
              "      --hover-fill-color: #174EA6;\n",
              "      --disabled-fill-color: #AAA;\n",
              "      --disabled-bg-color: #DDD;\n",
              "  }\n",
              "\n",
              "  [theme=dark] .colab-df-quickchart {\n",
              "      --bg-color: #3B4455;\n",
              "      --fill-color: #D2E3FC;\n",
              "      --hover-bg-color: #434B5C;\n",
              "      --hover-fill-color: #FFFFFF;\n",
              "      --disabled-bg-color: #3B4455;\n",
              "      --disabled-fill-color: #666;\n",
              "  }\n",
              "\n",
              "  .colab-df-quickchart {\n",
              "    background-color: var(--bg-color);\n",
              "    border: none;\n",
              "    border-radius: 50%;\n",
              "    cursor: pointer;\n",
              "    display: none;\n",
              "    fill: var(--fill-color);\n",
              "    height: 32px;\n",
              "    padding: 0;\n",
              "    width: 32px;\n",
              "  }\n",
              "\n",
              "  .colab-df-quickchart:hover {\n",
              "    background-color: var(--hover-bg-color);\n",
              "    box-shadow: 0 1px 2px rgba(60, 64, 67, 0.3), 0 1px 3px 1px rgba(60, 64, 67, 0.15);\n",
              "    fill: var(--button-hover-fill-color);\n",
              "  }\n",
              "\n",
              "  .colab-df-quickchart-complete:disabled,\n",
              "  .colab-df-quickchart-complete:disabled:hover {\n",
              "    background-color: var(--disabled-bg-color);\n",
              "    fill: var(--disabled-fill-color);\n",
              "    box-shadow: none;\n",
              "  }\n",
              "\n",
              "  .colab-df-spinner {\n",
              "    border: 2px solid var(--fill-color);\n",
              "    border-color: transparent;\n",
              "    border-bottom-color: var(--fill-color);\n",
              "    animation:\n",
              "      spin 1s steps(1) infinite;\n",
              "  }\n",
              "\n",
              "  @keyframes spin {\n",
              "    0% {\n",
              "      border-color: transparent;\n",
              "      border-bottom-color: var(--fill-color);\n",
              "      border-left-color: var(--fill-color);\n",
              "    }\n",
              "    20% {\n",
              "      border-color: transparent;\n",
              "      border-left-color: var(--fill-color);\n",
              "      border-top-color: var(--fill-color);\n",
              "    }\n",
              "    30% {\n",
              "      border-color: transparent;\n",
              "      border-left-color: var(--fill-color);\n",
              "      border-top-color: var(--fill-color);\n",
              "      border-right-color: var(--fill-color);\n",
              "    }\n",
              "    40% {\n",
              "      border-color: transparent;\n",
              "      border-right-color: var(--fill-color);\n",
              "      border-top-color: var(--fill-color);\n",
              "    }\n",
              "    60% {\n",
              "      border-color: transparent;\n",
              "      border-right-color: var(--fill-color);\n",
              "    }\n",
              "    80% {\n",
              "      border-color: transparent;\n",
              "      border-right-color: var(--fill-color);\n",
              "      border-bottom-color: var(--fill-color);\n",
              "    }\n",
              "    90% {\n",
              "      border-color: transparent;\n",
              "      border-bottom-color: var(--fill-color);\n",
              "    }\n",
              "  }\n",
              "</style>\n",
              "\n",
              "  <script>\n",
              "    async function quickchart(key) {\n",
              "      const quickchartButtonEl =\n",
              "        document.querySelector('#' + key + ' button');\n",
              "      quickchartButtonEl.disabled = true;  // To prevent multiple clicks.\n",
              "      quickchartButtonEl.classList.add('colab-df-spinner');\n",
              "      try {\n",
              "        const charts = await google.colab.kernel.invokeFunction(\n",
              "            'suggestCharts', [key], {});\n",
              "      } catch (error) {\n",
              "        console.error('Error during call to suggestCharts:', error);\n",
              "      }\n",
              "      quickchartButtonEl.classList.remove('colab-df-spinner');\n",
              "      quickchartButtonEl.classList.add('colab-df-quickchart-complete');\n",
              "    }\n",
              "    (() => {\n",
              "      let quickchartButtonEl =\n",
              "        document.querySelector('#df-7f6314d4-732e-4105-a00f-9a3343ae6d47 button');\n",
              "      quickchartButtonEl.style.display =\n",
              "        google.colab.kernel.accessAllowed ? 'block' : 'none';\n",
              "    })();\n",
              "  </script>\n",
              "</div>\n",
              "\n",
              "    </div>\n",
              "  </div>\n"
            ],
            "application/vnd.google.colaboratory.intrinsic+json": {
              "type": "dataframe",
              "summary": "{\n  \"name\": \"display(df_pop_br\",\n  \"rows\": 5,\n  \"fields\": [\n    {\n      \"column\": \"estado\",\n      \"properties\": {\n        \"dtype\": \"string\",\n        \"num_unique_values\": 5,\n        \"samples\": [\n          \"BA\",\n          \"SE\",\n          \"AM\"\n        ],\n        \"semantic_type\": \"\",\n        \"description\": \"\"\n      }\n    },\n    {\n      \"column\": \"idade\",\n      \"properties\": {\n        \"dtype\": \"number\",\n        \"std\": 15,\n        \"min\": 25,\n        \"max\": 60,\n        \"num_unique_values\": 5,\n        \"samples\": [\n          46,\n          25,\n          32\n        ],\n        \"semantic_type\": \"\",\n        \"description\": \"\"\n      }\n    },\n    {\n      \"column\": \"escolaridade\",\n      \"properties\": {\n        \"dtype\": \"category\",\n        \"num_unique_values\": 2,\n        \"samples\": [\n          \"Superior\",\n          \"Fundamental\"\n        ],\n        \"semantic_type\": \"\",\n        \"description\": \"\"\n      }\n    },\n    {\n      \"column\": \"n\\u00edvel de profici\\u00eancia em ingl\\u00eas\",\n      \"properties\": {\n        \"dtype\": \"string\",\n        \"num_unique_values\": 3,\n        \"samples\": [\n          \"Intermedi\\u00e1rio\",\n          \"B\\u00e1sico\"\n        ],\n        \"semantic_type\": \"\",\n        \"description\": \"\"\n      }\n    },\n    {\n      \"column\": \"renda\",\n      \"properties\": {\n        \"dtype\": \"number\",\n        \"std\": 937.0484579145307,\n        \"min\": 1870.29,\n        \"max\": 4006.29,\n        \"num_unique_values\": 5,\n        \"samples\": [\n          2423.11,\n          3529.8\n        ],\n        \"semantic_type\": \"\",\n        \"description\": \"\"\n      }\n    },\n    {\n      \"column\": \"sexo\",\n      \"properties\": {\n        \"dtype\": \"category\",\n        \"num_unique_values\": 2,\n        \"samples\": [\n          \"M\",\n          \"F\"\n        ],\n        \"semantic_type\": \"\",\n        \"description\": \"\"\n      }\n    }\n  ]\n}"
            }
          },
          "metadata": {}
        }
      ]
    },
    {
      "cell_type": "code",
      "source": [
        "#Informações DataFrame\n",
        "\n",
        "total_linhas = df_pop_br.shape[0]\n",
        "\n",
        "total_colunas = df_pop_br.shape[1]\n",
        "\n",
        "tipos_de_variaveis =df_pop_br.dtypes\n",
        "\n",
        "estat_descrit = df_pop_br.describe()\n",
        "\n",
        "\n",
        "print(f\"Total de linhas do DataFrame:{total_linhas} \\n\")\n",
        "\n",
        "print(f\"Total de Colunas do DataFrame:{total_colunas} \\n\")\n",
        "\n",
        "print(f\"Tipos das variáveis do DataFrame:\\n{tipos_de_variaveis} \\n\")\n",
        "\n",
        "print(f\"Estatística Descritiva do DataFrame: \\n{estat_descrit}\")\n"
      ],
      "metadata": {
        "colab": {
          "base_uri": "https://localhost:8080/"
        },
        "id": "Hhzuvlo6tIYB",
        "outputId": "b42abdf7-4d73-46ac-8346-e5f66d9c3b3e"
      },
      "execution_count": null,
      "outputs": [
        {
          "output_type": "stream",
          "name": "stdout",
          "text": [
            "Total de linhas do DataFrame:1000 \n",
            "\n",
            "Total de Colunas do DataFrame:6 \n",
            "\n",
            "Tipos das variáveis do DataFrame:\n",
            "estado                              object\n",
            "idade                                int64\n",
            "escolaridade                        object\n",
            "nível de proficiência em inglês     object\n",
            "renda                              float64\n",
            "sexo                                object\n",
            "dtype: object \n",
            "\n",
            "Estatística Descritiva do DataFrame: \n",
            "             idade        renda\n",
            "count  1000.000000  1000.000000\n",
            "mean     40.986000  3082.537180\n",
            "std      13.497852   996.572239\n",
            "min      18.000000   103.740000\n",
            "25%      29.000000  2425.815000\n",
            "50%      42.000000  3076.415000\n",
            "75%      52.000000  3714.487500\n",
            "max      64.000000  5632.380000\n"
          ]
        }
      ]
    },
    {
      "cell_type": "code",
      "source": [
        "# Exercício 1\n",
        "\n",
        "# P= n(E)/ n(S)\n",
        "\n",
        "df_total= df_pop_br['nível de proficiência em inglês'].value_counts().sum()\n",
        "\n",
        "df_nao_fluente = df_pop_br[df_pop_br['nível de proficiência em inglês'] != 'Avançado']\n",
        "\n",
        "contagem_nao_fluente = df_nao_fluente['nível de proficiência em inglês'].value_counts().sum()\n",
        "\n",
        "prob_nao_fluente=  round(contagem_nao_fluente/df_total,2)\n",
        "\n",
        "print(f'A probabilidade de escolhermos uma pessoa aleatória e ela não ser fluente em inglês é de: {prob_nao_fluente}')\n"
      ],
      "metadata": {
        "colab": {
          "base_uri": "https://localhost:8080/"
        },
        "id": "b7T-jLLWITXX",
        "outputId": "84cf1094-fe06-4227-80d8-230e5263b952"
      },
      "execution_count": null,
      "outputs": [
        {
          "output_type": "stream",
          "name": "stdout",
          "text": [
            "A probabilidade de escolhermos uma pessoa aleatória e ela não ser fluente em inglês é de: 0.66\n"
          ]
        }
      ]
    },
    {
      "cell_type": "code",
      "source": [
        "#Exercício 2\n",
        "\n",
        "\n",
        "df_local_AL_PA = df_pop_br[(df_pop_br['estado'] == 'PA') | (df_pop_br['estado'] == 'AL')]\n",
        "\n",
        "df_local= df_local_AL_PA.value_counts().sum()\n",
        "\n",
        "df_acima_cinco = df_local_AL_PA [df_local_AL_PA ['renda'] > 5000.00].value_counts().sum()\n",
        "\n",
        "\n",
        "prob_AL_PR=  round(df_acima_cinco/df_local,2)\n",
        "\n",
        "print(f'A probabilidade de escolhermos uma pessoa aleatória e ela ser do PR ou AL e ter renda superior a 5 mil reais: {prob_AL_PR}')\n",
        "\n"
      ],
      "metadata": {
        "colab": {
          "base_uri": "https://localhost:8080/"
        },
        "id": "dwQC2mKrLPw-",
        "outputId": "0b5dc62d-2e43-4cf2-cff7-10311f267f18"
      },
      "execution_count": null,
      "outputs": [
        {
          "output_type": "stream",
          "name": "stdout",
          "text": [
            "A probabilidade de escolhermos uma pessoa aleatória e ela ser do PR ou AL e ter renda superior a 5 mil reais: 0.05\n"
          ]
        }
      ]
    },
    {
      "cell_type": "code",
      "source": [
        "#Exercício 3\n",
        "\n",
        "df_local_AM = df_pop_br[(df_pop_br['estado'] == 'AM')]\n",
        "\n",
        "df_local= df_local_AM.value_counts().sum()\n",
        "\n",
        "df_ens_sup_AM = df_local_AM[(df_local_AM['escolaridade'] == 'Superior')].value_counts().sum()\n",
        "\n",
        "prob_Sup_AM=  round(df_ens_sup_AM/df_local,2)\n",
        "\n",
        "print(f'A probabilidade de escolhermos uma pessoa aleatória e ela ser do AM e ter curso superior: {prob_Sup_AM}')"
      ],
      "metadata": {
        "colab": {
          "base_uri": "https://localhost:8080/"
        },
        "id": "soH1FQS6lNEt",
        "outputId": "4b825983-6d10-4998-b104-d05167a13a5e"
      },
      "execution_count": null,
      "outputs": [
        {
          "output_type": "stream",
          "name": "stdout",
          "text": [
            "A probabilidade de escolhermos uma pessoa aleatória e ela ser do AM e ter curso superior: 0.24\n"
          ]
        }
      ]
    },
    {
      "cell_type": "code",
      "source": [
        "#Exercício 4\n",
        "\n",
        "faixa_renda = pd.cut(df_pop_br['renda'], bins=range(0, 6500, 1500), right=False)\n",
        "cont_faixa = faixa_renda.value_counts().sort_index()\n",
        "total_faixa= len(df_pop_br['renda'])\n",
        "\n",
        "print('A renda de uma pessoa brasileira está na sua maioria na faixa de 3000-4000 mil \\n')\n",
        "\n",
        "\n",
        "# Densidade de probabilidade em cada faixa\n",
        "densidade_probab = round(cont_faixa / total_faixa,2)\n",
        "print(f\"A densidade de probabilidade de cada faixa de renda:\\n{densidade_probab}\")\n",
        "\n"
      ],
      "metadata": {
        "colab": {
          "base_uri": "https://localhost:8080/"
        },
        "id": "a53sXbvyqNEE",
        "outputId": "1545496d-49de-4a46-bace-4c2b7ddc8031"
      },
      "execution_count": null,
      "outputs": [
        {
          "output_type": "stream",
          "name": "stdout",
          "text": [
            "A renda de uma pessoa brasileira está na sua maioria na faixa de 3000-4000 mil \n",
            "\n",
            "A densidade de probabilidade de cada faixa de renda:\n",
            "[0, 1500)       0.06\n",
            "[1500, 3000)    0.41\n",
            "[3000, 4500)    0.44\n",
            "[4500, 6000)    0.09\n",
            "Name: renda, dtype: float64\n"
          ]
        }
      ]
    },
    {
      "cell_type": "code",
      "source": [
        "#Exercício 5\n",
        "\n",
        "media_renda = df_pop_br['renda'].mean()\n",
        "variancia_renda = df_pop_br['renda'].var()\n",
        "\n",
        "print(f'A média da renda é: {round(media_renda,2)}')\n",
        "\n",
        "print(f'A Variância da renda é:{round(variancia_renda,2)}')\n",
        "\n",
        "# Criando a distribuição normal com base na média e variância da renda\n",
        "mu, sigma = media_renda, np.sqrt(variancia_renda)\n",
        "dist_normal = norm(mu, sigma)\n",
        "\n",
        "# Gerando valores para o gráfico\n",
        "x = np.linspace(mu - 3*sigma, mu + 3*sigma, 100)\n",
        "y = dist_normal.pdf(x)\n",
        "\n",
        "# Plotando a distribuição normal\n",
        "plt.plot(x, y, label='Distribuição Normal', color='red')\n",
        "plt.title('Distribuição Normal da Renda')\n",
        "plt.xlabel('Renda')\n",
        "plt.ylabel('Densidade de Probabilidade')\n",
        "plt.legend()\n",
        "plt.grid(True)\n",
        "plt.show()\n"
      ],
      "metadata": {
        "colab": {
          "base_uri": "https://localhost:8080/",
          "height": 507
        },
        "id": "D8Fe-S0e1ksN",
        "outputId": "38d3eee0-987b-486a-d300-47cf50434ba9"
      },
      "execution_count": null,
      "outputs": [
        {
          "output_type": "stream",
          "name": "stdout",
          "text": [
            "A média da renda é: 3082.54\n",
            "A Variância da renda é:993156.23\n"
          ]
        },
        {
          "output_type": "display_data",
          "data": {
            "text/plain": [
              "<Figure size 640x480 with 1 Axes>"
            ],
            "image/png": "[encoded data removed]"
          },
          "metadata": {}
        }
      ]
    },
    {
      "cell_type": "code",
      "source": [
        "#Exercício 6\n",
        "\n",
        "#Probabilidade de pessoas com escolaridade de pós-graduação\n",
        "\n",
        "total= len(df_pop_br['escolaridade'])\n",
        "\n",
        "df_ens_Pos = df_pop_br[(df_pop_br['escolaridade'] == 'Pós-graduação')].value_counts().sum()\n",
        "\n",
        "prob_Pos=  round(df_ens_Pos/total,2)\n",
        "\n",
        "print(f'A Probabilidade de pessoas com escolaridade de pós-graduação é de: {prob_Pos}')\n",
        "\n",
        "#População brasileira com 1 milhão de habitantes, qual a probabilidade de encontrarmos 243 mil pessoas com pós-graduação\n",
        "\n",
        "n = 1000000\n",
        "k = 243000\n",
        "p = prob_Pos\n",
        "\n",
        "prob_243 = binom.pmf(k, n, p)\n",
        "print(f\"A probabilidade de encontrarmos 243 mil pessoas com pós-graduação em uma amostra  com 1 milhão de habitantes é de: {prob_243}\")\n",
        "\n"
      ],
      "metadata": {
        "colab": {
          "base_uri": "https://localhost:8080/"
        },
        "id": "I9QAhPR7-h-v",
        "outputId": "1dd950f0-6a3a-4bcc-ac3c-95cde86a3685"
      },
      "execution_count": null,
      "outputs": [
        {
          "output_type": "stream",
          "name": "stdout",
          "text": [
            "A Probabilidade de pessoas com escolaridade de pós-graduação é de: 0.25\n",
            "A probabilidade de encontrarmos 243 mil pessoas com pós-graduação em uma amostra  com 1 milhão de habitantes é de: 7.274241342681515e-61\n"
          ]
        }
      ]
    },
    {
      "cell_type": "markdown",
      "source": [
        "A probabilidade de encontrarmos 243 mil pessoas com pós-graduação em uma amostra  com 1 milhão de habitantes é muito pequena para ser representada com precisão finita. Nesse caso, podemos concluir que a probabilidade é extremamente baixa.\n"
      ],
      "metadata": {
        "id": "O-yY5uUBOrzx"
      }
    },
    {
      "cell_type": "code",
      "source": [
        "#Exercício 7\n",
        "\n",
        "cont_esc = df_pop_br['escolaridade'].value_counts()\n",
        "\n",
        "prob_esc = cont_esc / len(df_pop_br)\n",
        "\n",
        "densidade_acumulada = prob_esc.cumsum()\n",
        "\n",
        "print(\" A Função de Densidade Acumulada Discreta para cada nível de escolaridade é de:\")\n",
        "print(densidade_acumulada)"
      ],
      "metadata": {
        "colab": {
          "base_uri": "https://localhost:8080/"
        },
        "id": "9eyN-SIMMqve",
        "outputId": "b6637fd2-a2ab-43c1-a5d2-fa2a02185925"
      },
      "execution_count": null,
      "outputs": [
        {
          "output_type": "stream",
          "name": "stdout",
          "text": [
            " A Função de Densidade Acumulada Discreta para cada nível de escolaridade é de:\n",
            "Fundamental      0.266\n",
            "Pós-graduação    0.519\n",
            "Superior         0.762\n",
            "Médio            1.000\n",
            "Name: escolaridade, dtype: float64\n"
          ]
        }
      ]
    },
    {
      "cell_type": "code",
      "source": [
        "#Exercício 8\n",
        "\n",
        "p = 0.5\n",
        "n= df_pop_br[df_pop_br['nível de proficiência em inglês'] == 'Intermediário'].value_counts().sum()\n",
        "z = 1.96  #para um intervalo de confiança de 95%\n",
        "\n",
        "# Calcular a margem de erro amostral\n",
        "margem_erro = z * np.sqrt((p * (1 - p)) / n)\n",
        "\n",
        "print(f\"Margem de erro amostral da proporção populacional: {(round(margem_erro,2))}\")\n",
        "\n",
        "\n"
      ],
      "metadata": {
        "colab": {
          "base_uri": "https://localhost:8080/"
        },
        "id": "6zbS0ctINj7S",
        "outputId": "6dfb1659-3179-4002-802e-21f362d9d3e1"
      },
      "execution_count": null,
      "outputs": [
        {
          "output_type": "stream",
          "name": "stdout",
          "text": [
            "Margem de erro amostral da proporção populacional: 0.05\n"
          ]
        }
      ]
    },
    {
      "cell_type": "code",
      "source": [
        "#Exercício 9\n",
        "media_renda = np.mean(df_pop_br['renda'])\n",
        "desvio_padrao_renda = np.std(df_pop_br['renda'])\n",
        "\n",
        "renda_sup = media_renda + 1000\n",
        "\n",
        "#Probabilidade de uma pessoa com renda superior a mil reais acima da média\n",
        "\n",
        "prob_sup = 1 - norm.cdf(renda_sup, loc=media_renda, scale=desvio_padrao_renda)\n",
        "\n",
        "n = len(df_pop_br)\n",
        "k = 60\n",
        "probabilidade_60 = binom.pmf(k, n, prob_sup)\n",
        "\n",
        "print(f\"A probabilidade de encontrar 60 pessoas com uma renda mil reais superior à média é de: {probabilidade_60}\")\n",
        "\n"
      ],
      "metadata": {
        "colab": {
          "base_uri": "https://localhost:8080/"
        },
        "id": "H4Qo4TliPyHl",
        "outputId": "eb09ccb0-d974-4422-ba70-28f154b36a39"
      },
      "execution_count": null,
      "outputs": [
        {
          "output_type": "stream",
          "name": "stdout",
          "text": [
            "A probabilidade de encontrar 60 pessoas com uma renda mil reais superior à média é de: 1.267725497531328e-21\n"
          ]
        }
      ]
    },
    {
      "cell_type": "markdown",
      "source": [
        "A probabilidade de encontrar 60 pessoas com uma renda mil reais superior à média é muito pequena para ser representada com precisão finita. Nesse caso, podemos concluir que a probabilidade é extremamente baixa.\n"
      ],
      "metadata": {
        "id": "HuFggqKRZd0J"
      }
    },
    {
      "cell_type": "code",
      "source": [
        "#Exercício 10\n",
        "\n",
        "df_sudeste= df_pop_br[(df_pop_br['estado'] == 'MG') | (df_pop_br['estado'] == 'SP') | (df_pop_br['estado'] == 'RJ')| (df_pop_br['estado'] == 'ES')]\n",
        "\n",
        "df_sudeste_homem= df_sudeste[df_sudeste['sexo']== 'M']\n",
        "\n",
        "count_sudeste_homem= df_sudeste_homem.value_counts().sum()\n",
        "\n",
        "df_homem_fund_maior_2= df_sudeste_homem[(df_sudeste_homem['escolaridade']=='Fundamental')|(df_sudeste_homem['renda'] > 2000.00)].value_counts().sum()\n",
        "\n",
        "\n",
        "prob_homem_fund_maior_2 = df_homem_fund_maior_2 / count_sudeste_homem\n",
        "\n",
        "\n",
        "print(f\" A probabilidade de escolhermos alguém do Sudeste que seja homem, com ensino fundamental e com renda maior que 2 mil reais por mês é de: {(round(prob_homem_fund_maior_2,2))}\")\n",
        "\n",
        "\n",
        "\n"
      ],
      "metadata": {
        "colab": {
          "base_uri": "https://localhost:8080/"
        },
        "id": "5cXaZ2G3Z2lV",
        "outputId": "633593c2-816e-485a-9aa0-1e6bdaf3b121"
      },
      "execution_count": null,
      "outputs": [
        {
          "output_type": "stream",
          "name": "stdout",
          "text": [
            " A probabilidade de escolhermos alguém do Sudeste que seja homem, com ensino fundamental e com renda maior que 2 mil reais por mês é de: 0.93\n"
          ]
        }
      ]
    }
  ]
}