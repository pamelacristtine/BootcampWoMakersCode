{
  "nbformat": 4,
  "nbformat_minor": 0,
  "metadata": {
    "colab": {
      "provenance": []
    },
    "kernelspec": {
      "name": "python3",
      "display_name": "Python 3"
    },
    "language_info": {
      "name": "python"
    }
  },
  "cells": [
    {
      "cell_type": "code",
      "execution_count": null,
      "metadata": {
        "id": "ji8GRhvvYtGf"
      },
      "outputs": [],
      "source": [
        "import pandas as pd\n",
        "import matplotlib.pyplot as plt\n",
        "import numpy as np\n",
        "import seaborn as sns\n",
        "import scipy.stats as stats\n",
        "from scipy.stats import ttest_ind #testet\n",
        "from scipy.stats import f_oneway #ANOVA\n",
        "from scipy.stats import chi2_contingency #Teste qui-quadrado\n",
        "from scipy.stats import t #Intervalo de confiança\n",
        "from scipy.stats import shapiro # Teste de normalidade de Shapiro-Wilk"
      ]
    },
    {
      "cell_type": "code",
      "source": [
        "\n",
        "# Leitura CSV\n",
        "df_AB = pd.read_csv(\"experimento_teste_ab.csv\")\n",
        "\n",
        "#Imprimir na tela o dataset\n",
        "display(df_AB.head())"
      ],
      "metadata": {
        "colab": {
          "base_uri": "https://localhost:8080/",
          "height": 206
        },
        "id": "mDgfCzGSZVUv",
        "outputId": "35fd4947-ec39-4d0c-c851-35e9fcc6ec42"
      },
      "execution_count": null,
      "outputs": [
        {
          "output_type": "display_data",
          "data": {
            "text/plain": [
              "   Visitante_ID Versão_Página  Visualizações  Conversões\n",
              "0             1             A            167           1\n",
              "1             2             A            160           0\n",
              "2             3             A            170           0\n",
              "3             4             A            161           1\n",
              "4             5             A            104           0"
            ],
            "text/html": [
              "\n",
              "  <div id=\"df-7c9245d9-415c-41d1-b4b3-902a5d98a752\" class=\"colab-df-container\">\n",
              "    <div>\n",
              "<style scoped>\n",
              "    .dataframe tbody tr th:only-of-type {\n",
              "        vertical-align: middle;\n",
              "    }\n",
              "\n",
              "    .dataframe tbody tr th {\n",
              "        vertical-align: top;\n",
              "    }\n",
              "\n",
              "    .dataframe thead th {\n",
              "        text-align: right;\n",
              "    }\n",
              "</style>\n",
              "<table border=\"1\" class=\"dataframe\">\n",
              "  <thead>\n",
              "    <tr style=\"text-align: right;\">\n",
              "      <th></th>\n",
              "      <th>Visitante_ID</th>\n",
              "      <th>Versão_Página</th>\n",
              "      <th>Visualizações</th>\n",
              "      <th>Conversões</th>\n",
              "    </tr>\n",
              "  </thead>\n",
              "  <tbody>\n",
              "    <tr>\n",
              "      <th>0</th>\n",
              "      <td>1</td>\n",
              "      <td>A</td>\n",
              "      <td>167</td>\n",
              "      <td>1</td>\n",
              "    </tr>\n",
              "    <tr>\n",
              "      <th>1</th>\n",
              "      <td>2</td>\n",
              "      <td>A</td>\n",
              "      <td>160</td>\n",
              "      <td>0</td>\n",
              "    </tr>\n",
              "    <tr>\n",
              "      <th>2</th>\n",
              "      <td>3</td>\n",
              "      <td>A</td>\n",
              "      <td>170</td>\n",
              "      <td>0</td>\n",
              "    </tr>\n",
              "    <tr>\n",
              "      <th>3</th>\n",
              "      <td>4</td>\n",
              "      <td>A</td>\n",
              "      <td>161</td>\n",
              "      <td>1</td>\n",
              "    </tr>\n",
              "    <tr>\n",
              "      <th>4</th>\n",
              "      <td>5</td>\n",
              "      <td>A</td>\n",
              "      <td>104</td>\n",
              "      <td>0</td>\n",
              "    </tr>\n",
              "  </tbody>\n",
              "</table>\n",
              "</div>\n",
              "    <div class=\"colab-df-buttons\">\n",
              "\n",
              "  <div class=\"colab-df-container\">\n",
              "    <button class=\"colab-df-convert\" onclick=\"convertToInteractive('df-7c9245d9-415c-41d1-b4b3-902a5d98a752')\"\n",
              "            title=\"Convert this dataframe to an interactive table.\"\n",
              "            style=\"display:none;\">\n",
              "\n",
              "  <svg xmlns=\"http://www.w3.org/2000/svg\" height=\"24px\" viewBox=\"0 -960 960 960\">\n",
              "    <path d=\"M120-120v-720h720v720H120Zm60-500h600v-160H180v160Zm220 220h160v-160H400v160Zm0 220h160v-160H400v160ZM180-400h160v-160H180v160Zm440 0h160v-160H620v160ZM180-180h160v-160H180v160Zm440 0h160v-160H620v160Z\"/>\n",
              "  </svg>\n",
              "    </button>\n",
              "\n",
              "  <style>\n",
              "    .colab-df-container {\n",
              "      display:flex;\n",
              "      gap: 12px;\n",
              "    }\n",
              "\n",
              "    .colab-df-convert {\n",
              "      background-color: #E8F0FE;\n",
              "      border: none;\n",
              "      border-radius: 50%;\n",
              "      cursor: pointer;\n",
              "      display: none;\n",
              "      fill: #1967D2;\n",
              "      height: 32px;\n",
              "      padding: 0 0 0 0;\n",
              "      width: 32px;\n",
              "    }\n",
              "\n",
              "    .colab-df-convert:hover {\n",
              "      background-color: #E2EBFA;\n",
              "      box-shadow: 0px 1px 2px rgba(60, 64, 67, 0.3), 0px 1px 3px 1px rgba(60, 64, 67, 0.15);\n",
              "      fill: #174EA6;\n",
              "    }\n",
              "\n",
              "    .colab-df-buttons div {\n",
              "      margin-bottom: 4px;\n",
              "    }\n",
              "\n",
              "    [theme=dark] .colab-df-convert {\n",
              "      background-color: #3B4455;\n",
              "      fill: #D2E3FC;\n",
              "    }\n",
              "\n",
              "    [theme=dark] .colab-df-convert:hover {\n",
              "      background-color: #434B5C;\n",
              "      box-shadow: 0px 1px 3px 1px rgba(0, 0, 0, 0.15);\n",
              "      filter: drop-shadow(0px 1px 2px rgba(0, 0, 0, 0.3));\n",
              "      fill: #FFFFFF;\n",
              "    }\n",
              "  </style>\n",
              "\n",
              "    <script>\n",
              "      const buttonEl =\n",
              "        document.querySelector('#df-7c9245d9-415c-41d1-b4b3-902a5d98a752 button.colab-df-convert');\n",
              "      buttonEl.style.display =\n",
              "        google.colab.kernel.accessAllowed ? 'block' : 'none';\n",
              "\n",
              "      async function convertToInteractive(key) {\n",
              "        const element = document.querySelector('#df-7c9245d9-415c-41d1-b4b3-902a5d98a752');\n",
              "        const dataTable =\n",
              "          await google.colab.kernel.invokeFunction('convertToInteractive',\n",
              "                                                    [key], {});\n",
              "        if (!dataTable) return;\n",
              "\n",
              "        const docLinkHtml = 'Like what you see? Visit the ' +\n",
              "          '<a target=\"_blank\" href=https://colab.research.google.com/notebooks/data_table.ipynb>data table notebook</a>'\n",
              "          + ' to learn more about interactive tables.';\n",
              "        element.innerHTML = '';\n",
              "        dataTable['output_type'] = 'display_data';\n",
              "        await google.colab.output.renderOutput(dataTable, element);\n",
              "        const docLink = document.createElement('div');\n",
              "        docLink.innerHTML = docLinkHtml;\n",
              "        element.appendChild(docLink);\n",
              "      }\n",
              "    </script>\n",
              "  </div>\n",
              "\n",
              "\n",
              "<div id=\"df-84fedffe-62ad-459a-af6e-3febcf6a8203\">\n",
              "  <button class=\"colab-df-quickchart\" onclick=\"quickchart('df-84fedffe-62ad-459a-af6e-3febcf6a8203')\"\n",
              "            title=\"Suggest charts\"\n",
              "            style=\"display:none;\">\n",
              "\n",
              "<svg xmlns=\"http://www.w3.org/2000/svg\" height=\"24px\"viewBox=\"0 0 24 24\"\n",
              "     width=\"24px\">\n",
              "    <g>\n",
              "        <path d=\"M19 3H5c-1.1 0-2 .9-2 2v14c0 1.1.9 2 2 2h14c1.1 0 2-.9 2-2V5c0-1.1-.9-2-2-2zM9 17H7v-7h2v7zm4 0h-2V7h2v10zm4 0h-2v-4h2v4z\"/>\n",
              "    </g>\n",
              "</svg>\n",
              "  </button>\n",
              "\n",
              "<style>\n",
              "  .colab-df-quickchart {\n",
              "      --bg-color: #E8F0FE;\n",
              "      --fill-color: #1967D2;\n",
              "      --hover-bg-color: #E2EBFA;\n",
              "      --hover-fill-color: #174EA6;\n",
              "      --disabled-fill-color: #AAA;\n",
              "      --disabled-bg-color: #DDD;\n",
              "  }\n",
              "\n",
              "  [theme=dark] .colab-df-quickchart {\n",
              "      --bg-color: #3B4455;\n",
              "      --fill-color: #D2E3FC;\n",
              "      --hover-bg-color: #434B5C;\n",
              "      --hover-fill-color: #FFFFFF;\n",
              "      --disabled-bg-color: #3B4455;\n",
              "      --disabled-fill-color: #666;\n",
              "  }\n",
              "\n",
              "  .colab-df-quickchart {\n",
              "    background-color: var(--bg-color);\n",
              "    border: none;\n",
              "    border-radius: 50%;\n",
              "    cursor: pointer;\n",
              "    display: none;\n",
              "    fill: var(--fill-color);\n",
              "    height: 32px;\n",
              "    padding: 0;\n",
              "    width: 32px;\n",
              "  }\n",
              "\n",
              "  .colab-df-quickchart:hover {\n",
              "    background-color: var(--hover-bg-color);\n",
              "    box-shadow: 0 1px 2px rgba(60, 64, 67, 0.3), 0 1px 3px 1px rgba(60, 64, 67, 0.15);\n",
              "    fill: var(--button-hover-fill-color);\n",
              "  }\n",
              "\n",
              "  .colab-df-quickchart-complete:disabled,\n",
              "  .colab-df-quickchart-complete:disabled:hover {\n",
              "    background-color: var(--disabled-bg-color);\n",
              "    fill: var(--disabled-fill-color);\n",
              "    box-shadow: none;\n",
              "  }\n",
              "\n",
              "  .colab-df-spinner {\n",
              "    border: 2px solid var(--fill-color);\n",
              "    border-color: transparent;\n",
              "    border-bottom-color: var(--fill-color);\n",
              "    animation:\n",
              "      spin 1s steps(1) infinite;\n",
              "  }\n",
              "\n",
              "  @keyframes spin {\n",
              "    0% {\n",
              "      border-color: transparent;\n",
              "      border-bottom-color: var(--fill-color);\n",
              "      border-left-color: var(--fill-color);\n",
              "    }\n",
              "    20% {\n",
              "      border-color: transparent;\n",
              "      border-left-color: var(--fill-color);\n",
              "      border-top-color: var(--fill-color);\n",
              "    }\n",
              "    30% {\n",
              "      border-color: transparent;\n",
              "      border-left-color: var(--fill-color);\n",
              "      border-top-color: var(--fill-color);\n",
              "      border-right-color: var(--fill-color);\n",
              "    }\n",
              "    40% {\n",
              "      border-color: transparent;\n",
              "      border-right-color: var(--fill-color);\n",
              "      border-top-color: var(--fill-color);\n",
              "    }\n",
              "    60% {\n",
              "      border-color: transparent;\n",
              "      border-right-color: var(--fill-color);\n",
              "    }\n",
              "    80% {\n",
              "      border-color: transparent;\n",
              "      border-right-color: var(--fill-color);\n",
              "      border-bottom-color: var(--fill-color);\n",
              "    }\n",
              "    90% {\n",
              "      border-color: transparent;\n",
              "      border-bottom-color: var(--fill-color);\n",
              "    }\n",
              "  }\n",
              "</style>\n",
              "\n",
              "  <script>\n",
              "    async function quickchart(key) {\n",
              "      const quickchartButtonEl =\n",
              "        document.querySelector('#' + key + ' button');\n",
              "      quickchartButtonEl.disabled = true;  // To prevent multiple clicks.\n",
              "      quickchartButtonEl.classList.add('colab-df-spinner');\n",
              "      try {\n",
              "        const charts = await google.colab.kernel.invokeFunction(\n",
              "            'suggestCharts', [key], {});\n",
              "      } catch (error) {\n",
              "        console.error('Error during call to suggestCharts:', error);\n",
              "      }\n",
              "      quickchartButtonEl.classList.remove('colab-df-spinner');\n",
              "      quickchartButtonEl.classList.add('colab-df-quickchart-complete');\n",
              "    }\n",
              "    (() => {\n",
              "      let quickchartButtonEl =\n",
              "        document.querySelector('#df-84fedffe-62ad-459a-af6e-3febcf6a8203 button');\n",
              "      quickchartButtonEl.style.display =\n",
              "        google.colab.kernel.accessAllowed ? 'block' : 'none';\n",
              "    })();\n",
              "  </script>\n",
              "</div>\n",
              "\n",
              "    </div>\n",
              "  </div>\n"
            ],
            "application/vnd.google.colaboratory.intrinsic+json": {
              "type": "dataframe",
              "summary": "{\n  \"name\": \"display(df_AB\",\n  \"rows\": 5,\n  \"fields\": [\n    {\n      \"column\": \"Visitante_ID\",\n      \"properties\": {\n        \"dtype\": \"number\",\n        \"std\": 1,\n        \"min\": 1,\n        \"max\": 5,\n        \"num_unique_values\": 5,\n        \"samples\": [\n          2,\n          5,\n          3\n        ],\n        \"semantic_type\": \"\",\n        \"description\": \"\"\n      }\n    },\n    {\n      \"column\": \"Vers\\u00e3o_P\\u00e1gina\",\n      \"properties\": {\n        \"dtype\": \"category\",\n        \"num_unique_values\": 1,\n        \"samples\": [\n          \"A\"\n        ],\n        \"semantic_type\": \"\",\n        \"description\": \"\"\n      }\n    },\n    {\n      \"column\": \"Visualiza\\u00e7\\u00f5es\",\n      \"properties\": {\n        \"dtype\": \"number\",\n        \"std\": 27,\n        \"min\": 104,\n        \"max\": 170,\n        \"num_unique_values\": 5,\n        \"samples\": [\n          160\n        ],\n        \"semantic_type\": \"\",\n        \"description\": \"\"\n      }\n    },\n    {\n      \"column\": \"Convers\\u00f5es\",\n      \"properties\": {\n        \"dtype\": \"number\",\n        \"std\": 0,\n        \"min\": 0,\n        \"max\": 1,\n        \"num_unique_values\": 2,\n        \"samples\": [\n          0\n        ],\n        \"semantic_type\": \"\",\n        \"description\": \"\"\n      }\n    }\n  ]\n}"
            }
          },
          "metadata": {}
        }
      ]
    },
    {
      "cell_type": "code",
      "source": [
        "#Informações DataFrame\n",
        "\n",
        "total_linhas = df_AB.shape[0]\n",
        "\n",
        "total_colunas = df_AB.shape[1]\n",
        "\n",
        "tipos_de_variaveis = df_AB.dtypes\n",
        "\n",
        "estat_descrit = df_AB.describe()\n",
        "\n",
        "\n",
        "print(f\"Total de linhas do DataFrame:{total_linhas} \\n\")\n",
        "\n",
        "print(f\"Total de Colunas do DataFrame:{total_colunas} \\n\")\n",
        "\n",
        "print(f\"Tipos das variáveis do DataFrame:\\n{tipos_de_variaveis} \\n\")\n",
        "\n",
        "print(f\"Estatística Descritiva do DataFrame: \\n{estat_descrit}\")\n"
      ],
      "metadata": {
        "colab": {
          "base_uri": "https://localhost:8080/"
        },
        "id": "MHdb1YaBZp88",
        "outputId": "b368f4af-9900-4d6b-f6d3-ba14d2bfc1ad"
      },
      "execution_count": null,
      "outputs": [
        {
          "output_type": "stream",
          "name": "stdout",
          "text": [
            "Total de linhas do DataFrame:2000 \n",
            "\n",
            "Total de Colunas do DataFrame:4 \n",
            "\n",
            "Tipos das variáveis do DataFrame:\n",
            "Visitante_ID      int64\n",
            "Versão_Página    object\n",
            "Visualizações     int64\n",
            "Conversões        int64\n",
            "dtype: object \n",
            "\n",
            "Estatística Descritiva do DataFrame: \n",
            "       Visitante_ID  Visualizações   Conversões\n",
            "count   2000.000000    2000.000000  2000.000000\n",
            "mean    1000.500000     150.755500     0.115000\n",
            "std      577.494589      28.809421     0.319102\n",
            "min        1.000000     100.000000     0.000000\n",
            "25%      500.750000     126.000000     0.000000\n",
            "50%     1000.500000     151.000000     0.000000\n",
            "75%     1500.250000     175.000000     0.000000\n",
            "max     2000.000000     199.000000     1.000000\n"
          ]
        }
      ]
    },
    {
      "cell_type": "markdown",
      "source": [
        "##**Questão 1**"
      ],
      "metadata": {
        "id": "aJTDCClpb-y4"
      }
    },
    {
      "cell_type": "code",
      "source": [
        "#o valor 1 para indicar que houve uma conversão e o valor 0 para indicar que não houve conversão.\n",
        "amostra= df_AB['Conversões'].count()\n",
        "cov_A=  ((df_AB['Conversões'] == 1)  & (df_AB['Versão_Página'] == \"A\")).sum()\n",
        "cov_B=  ((df_AB['Conversões'] == 1) & (df_AB['Versão_Página'] == \"B\")).sum()\n",
        "\n",
        "# Taxa de conversão\n",
        "taxa_conv_A = cov_A / amostra\n",
        "taxa_conv_B = cov_B / amostra\n",
        "\n",
        "print(f'O cenário que tem a maior taxa de conversão é o cenário B. Com taxa de conversão de: {taxa_conv_B}')\n"
      ],
      "metadata": {
        "colab": {
          "base_uri": "https://localhost:8080/"
        },
        "id": "wYapmJ-ZZ8H0",
        "outputId": "44f7b598-649e-4080-a9a4-6c4a5cf14f1b"
      },
      "execution_count": null,
      "outputs": [
        {
          "output_type": "stream",
          "name": "stdout",
          "text": [
            "O cenário que tem a maior taxa de conversão é o cenário B. Com taxa de conversão de: 0.0625\n"
          ]
        }
      ]
    },
    {
      "cell_type": "markdown",
      "source": [
        "##**Questão 2**"
      ],
      "metadata": {
        "id": "7E-n1TswfQyK"
      }
    },
    {
      "cell_type": "code",
      "source": [
        "\n",
        "alpha = 0.05         # Nível de significância\n",
        "beta = 0.20          # Probabilidade de erro do tipo II (1 - poder do teste) | poder do teste normalmente é 0.8\n",
        "p1 = taxa_conv_A     # Taxa de conversão do cenário A\n",
        "p2 = 0.10            # Taxa de conversão esperada para o cenário B\n",
        "\n",
        "# Calculando os valores críticos\n",
        "Z_alpha = stats.norm.ppf(1 - alpha/2)\n",
        "Z_beta = stats.norm.ppf(1 - beta)\n",
        "\n",
        "# Calculando o tamanho da amostra\n",
        "n = ((Z_alpha + Z_beta)**2 * (p1 * (1 - p1) + p2 * (1 - p2))) / ((p2 - p1)**2)\n",
        "\n",
        "print(f'O tamanho da amostra necessária para o desenvolvimento de um teste A/B: {round(n)}')\n",
        "\n",
        "\n"
      ],
      "metadata": {
        "colab": {
          "base_uri": "https://localhost:8080/"
        },
        "id": "j_7rn1IUfVh0",
        "outputId": "a7463e6a-6cb1-4778-e985-de705dcc6f61"
      },
      "execution_count": null,
      "outputs": [
        {
          "output_type": "stream",
          "name": "stdout",
          "text": [
            "O tamanho da amostra necessária para o desenvolvimento de um teste A/B: 486\n"
          ]
        }
      ]
    },
    {
      "cell_type": "code",
      "source": [
        "\n",
        "# Leitura CSV\n",
        "df_pacientes = pd.read_csv(\"pacientes.csv\")\n",
        "\n",
        "df_pacientes.drop(columns=['Unnamed: 0'], inplace=True)\n",
        "\n",
        "#Imprimir na tela o dataset\n",
        "display(df_pacientes.head())"
      ],
      "metadata": {
        "colab": {
          "base_uri": "https://localhost:8080/",
          "height": 206
        },
        "id": "Bht5hW3ZMlKg",
        "outputId": "8860e0d0-f5b0-4457-812b-2eaa3b88e2bc"
      },
      "execution_count": null,
      "outputs": [
        {
          "output_type": "display_data",
          "data": {
            "text/plain": [
              "   Pressao_Arterial  Idade  Genero  Etnia  Estado_Saude Nome_Genero  \\\n",
              "0        142.755809     31       1      1             1    Feminino   \n",
              "1        161.878468     35       1      1             0    Feminino   \n",
              "2        161.508259     39       0      3             1   Masculino   \n",
              "3        144.979408     43       1      3             1    Feminino   \n",
              "4        162.502954     55       0      2             1   Masculino   \n",
              "\n",
              "       Nome_Etnia                  Nome_Estado_Saude  \n",
              "0  Afro-americano  Com condições de saúde adicionais  \n",
              "1  Afro-americano                           Saudável  \n",
              "2        Asiático  Com condições de saúde adicionais  \n",
              "3        Asiático  Com condições de saúde adicionais  \n",
              "4       Hispânico  Com condições de saúde adicionais  "
            ],
            "text/html": [
              "\n",
              "  <div id=\"df-5122ff16-9734-40cf-a3f5-11e69a164fa9\" class=\"colab-df-container\">\n",
              "    <div>\n",
              "<style scoped>\n",
              "    .dataframe tbody tr th:only-of-type {\n",
              "        vertical-align: middle;\n",
              "    }\n",
              "\n",
              "    .dataframe tbody tr th {\n",
              "        vertical-align: top;\n",
              "    }\n",
              "\n",
              "    .dataframe thead th {\n",
              "        text-align: right;\n",
              "    }\n",
              "</style>\n",
              "<table border=\"1\" class=\"dataframe\">\n",
              "  <thead>\n",
              "    <tr style=\"text-align: right;\">\n",
              "      <th></th>\n",
              "      <th>Pressao_Arterial</th>\n",
              "      <th>Idade</th>\n",
              "      <th>Genero</th>\n",
              "      <th>Etnia</th>\n",
              "      <th>Estado_Saude</th>\n",
              "      <th>Nome_Genero</th>\n",
              "      <th>Nome_Etnia</th>\n",
              "      <th>Nome_Estado_Saude</th>\n",
              "    </tr>\n",
              "  </thead>\n",
              "  <tbody>\n",
              "    <tr>\n",
              "      <th>0</th>\n",
              "      <td>142.755809</td>\n",
              "      <td>31</td>\n",
              "      <td>1</td>\n",
              "      <td>1</td>\n",
              "      <td>1</td>\n",
              "      <td>Feminino</td>\n",
              "      <td>Afro-americano</td>\n",
              "      <td>Com condições de saúde adicionais</td>\n",
              "    </tr>\n",
              "    <tr>\n",
              "      <th>1</th>\n",
              "      <td>161.878468</td>\n",
              "      <td>35</td>\n",
              "      <td>1</td>\n",
              "      <td>1</td>\n",
              "      <td>0</td>\n",
              "      <td>Feminino</td>\n",
              "      <td>Afro-americano</td>\n",
              "      <td>Saudável</td>\n",
              "    </tr>\n",
              "    <tr>\n",
              "      <th>2</th>\n",
              "      <td>161.508259</td>\n",
              "      <td>39</td>\n",
              "      <td>0</td>\n",
              "      <td>3</td>\n",
              "      <td>1</td>\n",
              "      <td>Masculino</td>\n",
              "      <td>Asiático</td>\n",
              "      <td>Com condições de saúde adicionais</td>\n",
              "    </tr>\n",
              "    <tr>\n",
              "      <th>3</th>\n",
              "      <td>144.979408</td>\n",
              "      <td>43</td>\n",
              "      <td>1</td>\n",
              "      <td>3</td>\n",
              "      <td>1</td>\n",
              "      <td>Feminino</td>\n",
              "      <td>Asiático</td>\n",
              "      <td>Com condições de saúde adicionais</td>\n",
              "    </tr>\n",
              "    <tr>\n",
              "      <th>4</th>\n",
              "      <td>162.502954</td>\n",
              "      <td>55</td>\n",
              "      <td>0</td>\n",
              "      <td>2</td>\n",
              "      <td>1</td>\n",
              "      <td>Masculino</td>\n",
              "      <td>Hispânico</td>\n",
              "      <td>Com condições de saúde adicionais</td>\n",
              "    </tr>\n",
              "  </tbody>\n",
              "</table>\n",
              "</div>\n",
              "    <div class=\"colab-df-buttons\">\n",
              "\n",
              "  <div class=\"colab-df-container\">\n",
              "    <button class=\"colab-df-convert\" onclick=\"convertToInteractive('df-5122ff16-9734-40cf-a3f5-11e69a164fa9')\"\n",
              "            title=\"Convert this dataframe to an interactive table.\"\n",
              "            style=\"display:none;\">\n",
              "\n",
              "  <svg xmlns=\"http://www.w3.org/2000/svg\" height=\"24px\" viewBox=\"0 -960 960 960\">\n",
              "    <path d=\"M120-120v-720h720v720H120Zm60-500h600v-160H180v160Zm220 220h160v-160H400v160Zm0 220h160v-160H400v160ZM180-400h160v-160H180v160Zm440 0h160v-160H620v160ZM180-180h160v-160H180v160Zm440 0h160v-160H620v160Z\"/>\n",
              "  </svg>\n",
              "    </button>\n",
              "\n",
              "  <style>\n",
              "    .colab-df-container {\n",
              "      display:flex;\n",
              "      gap: 12px;\n",
              "    }\n",
              "\n",
              "    .colab-df-convert {\n",
              "      background-color: #E8F0FE;\n",
              "      border: none;\n",
              "      border-radius: 50%;\n",
              "      cursor: pointer;\n",
              "      display: none;\n",
              "      fill: #1967D2;\n",
              "      height: 32px;\n",
              "      padding: 0 0 0 0;\n",
              "      width: 32px;\n",
              "    }\n",
              "\n",
              "    .colab-df-convert:hover {\n",
              "      background-color: #E2EBFA;\n",
              "      box-shadow: 0px 1px 2px rgba(60, 64, 67, 0.3), 0px 1px 3px 1px rgba(60, 64, 67, 0.15);\n",
              "      fill: #174EA6;\n",
              "    }\n",
              "\n",
              "    .colab-df-buttons div {\n",
              "      margin-bottom: 4px;\n",
              "    }\n",
              "\n",
              "    [theme=dark] .colab-df-convert {\n",
              "      background-color: #3B4455;\n",
              "      fill: #D2E3FC;\n",
              "    }\n",
              "\n",
              "    [theme=dark] .colab-df-convert:hover {\n",
              "      background-color: #434B5C;\n",
              "      box-shadow: 0px 1px 3px 1px rgba(0, 0, 0, 0.15);\n",
              "      filter: drop-shadow(0px 1px 2px rgba(0, 0, 0, 0.3));\n",
              "      fill: #FFFFFF;\n",
              "    }\n",
              "  </style>\n",
              "\n",
              "    <script>\n",
              "      const buttonEl =\n",
              "        document.querySelector('#df-5122ff16-9734-40cf-a3f5-11e69a164fa9 button.colab-df-convert');\n",
              "      buttonEl.style.display =\n",
              "        google.colab.kernel.accessAllowed ? 'block' : 'none';\n",
              "\n",
              "      async function convertToInteractive(key) {\n",
              "        const element = document.querySelector('#df-5122ff16-9734-40cf-a3f5-11e69a164fa9');\n",
              "        const dataTable =\n",
              "          await google.colab.kernel.invokeFunction('convertToInteractive',\n",
              "                                                    [key], {});\n",
              "        if (!dataTable) return;\n",
              "\n",
              "        const docLinkHtml = 'Like what you see? Visit the ' +\n",
              "          '<a target=\"_blank\" href=https://colab.research.google.com/notebooks/data_table.ipynb>data table notebook</a>'\n",
              "          + ' to learn more about interactive tables.';\n",
              "        element.innerHTML = '';\n",
              "        dataTable['output_type'] = 'display_data';\n",
              "        await google.colab.output.renderOutput(dataTable, element);\n",
              "        const docLink = document.createElement('div');\n",
              "        docLink.innerHTML = docLinkHtml;\n",
              "        element.appendChild(docLink);\n",
              "      }\n",
              "    </script>\n",
              "  </div>\n",
              "\n",
              "\n",
              "<div id=\"df-4d0b5497-d4f5-4e4a-973c-73962c271c60\">\n",
              "  <button class=\"colab-df-quickchart\" onclick=\"quickchart('df-4d0b5497-d4f5-4e4a-973c-73962c271c60')\"\n",
              "            title=\"Suggest charts\"\n",
              "            style=\"display:none;\">\n",
              "\n",
              "<svg xmlns=\"http://www.w3.org/2000/svg\" height=\"24px\"viewBox=\"0 0 24 24\"\n",
              "     width=\"24px\">\n",
              "    <g>\n",
              "        <path d=\"M19 3H5c-1.1 0-2 .9-2 2v14c0 1.1.9 2 2 2h14c1.1 0 2-.9 2-2V5c0-1.1-.9-2-2-2zM9 17H7v-7h2v7zm4 0h-2V7h2v10zm4 0h-2v-4h2v4z\"/>\n",
              "    </g>\n",
              "</svg>\n",
              "  </button>\n",
              "\n",
              "<style>\n",
              "  .colab-df-quickchart {\n",
              "      --bg-color: #E8F0FE;\n",
              "      --fill-color: #1967D2;\n",
              "      --hover-bg-color: #E2EBFA;\n",
              "      --hover-fill-color: #174EA6;\n",
              "      --disabled-fill-color: #AAA;\n",
              "      --disabled-bg-color: #DDD;\n",
              "  }\n",
              "\n",
              "  [theme=dark] .colab-df-quickchart {\n",
              "      --bg-color: #3B4455;\n",
              "      --fill-color: #D2E3FC;\n",
              "      --hover-bg-color: #434B5C;\n",
              "      --hover-fill-color: #FFFFFF;\n",
              "      --disabled-bg-color: #3B4455;\n",
              "      --disabled-fill-color: #666;\n",
              "  }\n",
              "\n",
              "  .colab-df-quickchart {\n",
              "    background-color: var(--bg-color);\n",
              "    border: none;\n",
              "    border-radius: 50%;\n",
              "    cursor: pointer;\n",
              "    display: none;\n",
              "    fill: var(--fill-color);\n",
              "    height: 32px;\n",
              "    padding: 0;\n",
              "    width: 32px;\n",
              "  }\n",
              "\n",
              "  .colab-df-quickchart:hover {\n",
              "    background-color: var(--hover-bg-color);\n",
              "    box-shadow: 0 1px 2px rgba(60, 64, 67, 0.3), 0 1px 3px 1px rgba(60, 64, 67, 0.15);\n",
              "    fill: var(--button-hover-fill-color);\n",
              "  }\n",
              "\n",
              "  .colab-df-quickchart-complete:disabled,\n",
              "  .colab-df-quickchart-complete:disabled:hover {\n",
              "    background-color: var(--disabled-bg-color);\n",
              "    fill: var(--disabled-fill-color);\n",
              "    box-shadow: none;\n",
              "  }\n",
              "\n",
              "  .colab-df-spinner {\n",
              "    border: 2px solid var(--fill-color);\n",
              "    border-color: transparent;\n",
              "    border-bottom-color: var(--fill-color);\n",
              "    animation:\n",
              "      spin 1s steps(1) infinite;\n",
              "  }\n",
              "\n",
              "  @keyframes spin {\n",
              "    0% {\n",
              "      border-color: transparent;\n",
              "      border-bottom-color: var(--fill-color);\n",
              "      border-left-color: var(--fill-color);\n",
              "    }\n",
              "    20% {\n",
              "      border-color: transparent;\n",
              "      border-left-color: var(--fill-color);\n",
              "      border-top-color: var(--fill-color);\n",
              "    }\n",
              "    30% {\n",
              "      border-color: transparent;\n",
              "      border-left-color: var(--fill-color);\n",
              "      border-top-color: var(--fill-color);\n",
              "      border-right-color: var(--fill-color);\n",
              "    }\n",
              "    40% {\n",
              "      border-color: transparent;\n",
              "      border-right-color: var(--fill-color);\n",
              "      border-top-color: var(--fill-color);\n",
              "    }\n",
              "    60% {\n",
              "      border-color: transparent;\n",
              "      border-right-color: var(--fill-color);\n",
              "    }\n",
              "    80% {\n",
              "      border-color: transparent;\n",
              "      border-right-color: var(--fill-color);\n",
              "      border-bottom-color: var(--fill-color);\n",
              "    }\n",
              "    90% {\n",
              "      border-color: transparent;\n",
              "      border-bottom-color: var(--fill-color);\n",
              "    }\n",
              "  }\n",
              "</style>\n",
              "\n",
              "  <script>\n",
              "    async function quickchart(key) {\n",
              "      const quickchartButtonEl =\n",
              "        document.querySelector('#' + key + ' button');\n",
              "      quickchartButtonEl.disabled = true;  // To prevent multiple clicks.\n",
              "      quickchartButtonEl.classList.add('colab-df-spinner');\n",
              "      try {\n",
              "        const charts = await google.colab.kernel.invokeFunction(\n",
              "            'suggestCharts', [key], {});\n",
              "      } catch (error) {\n",
              "        console.error('Error during call to suggestCharts:', error);\n",
              "      }\n",
              "      quickchartButtonEl.classList.remove('colab-df-spinner');\n",
              "      quickchartButtonEl.classList.add('colab-df-quickchart-complete');\n",
              "    }\n",
              "    (() => {\n",
              "      let quickchartButtonEl =\n",
              "        document.querySelector('#df-4d0b5497-d4f5-4e4a-973c-73962c271c60 button');\n",
              "      quickchartButtonEl.style.display =\n",
              "        google.colab.kernel.accessAllowed ? 'block' : 'none';\n",
              "    })();\n",
              "  </script>\n",
              "</div>\n",
              "\n",
              "    </div>\n",
              "  </div>\n"
            ],
            "application/vnd.google.colaboratory.intrinsic+json": {
              "type": "dataframe",
              "summary": "{\n  \"name\": \"display(df_pacientes\",\n  \"rows\": 5,\n  \"fields\": [\n    {\n      \"column\": \"Pressao_Arterial\",\n      \"properties\": {\n        \"dtype\": \"number\",\n        \"std\": 9.948861165899402,\n        \"min\": 142.75580946493355,\n        \"max\": 162.50295436602667,\n        \"num_unique_values\": 5,\n        \"samples\": [\n          161.8784676186195,\n          162.50295436602667,\n          161.50825884914804\n        ],\n        \"semantic_type\": \"\",\n        \"description\": \"\"\n      }\n    },\n    {\n      \"column\": \"Idade\",\n      \"properties\": {\n        \"dtype\": \"number\",\n        \"std\": 9,\n        \"min\": 31,\n        \"max\": 55,\n        \"num_unique_values\": 5,\n        \"samples\": [\n          35,\n          55,\n          39\n        ],\n        \"semantic_type\": \"\",\n        \"description\": \"\"\n      }\n    },\n    {\n      \"column\": \"Genero\",\n      \"properties\": {\n        \"dtype\": \"number\",\n        \"std\": 0,\n        \"min\": 0,\n        \"max\": 1,\n        \"num_unique_values\": 2,\n        \"samples\": [\n          0,\n          1\n        ],\n        \"semantic_type\": \"\",\n        \"description\": \"\"\n      }\n    },\n    {\n      \"column\": \"Etnia\",\n      \"properties\": {\n        \"dtype\": \"number\",\n        \"std\": 1,\n        \"min\": 1,\n        \"max\": 3,\n        \"num_unique_values\": 3,\n        \"samples\": [\n          1,\n          3\n        ],\n        \"semantic_type\": \"\",\n        \"description\": \"\"\n      }\n    },\n    {\n      \"column\": \"Estado_Saude\",\n      \"properties\": {\n        \"dtype\": \"number\",\n        \"std\": 0,\n        \"min\": 0,\n        \"max\": 1,\n        \"num_unique_values\": 2,\n        \"samples\": [\n          0,\n          1\n        ],\n        \"semantic_type\": \"\",\n        \"description\": \"\"\n      }\n    },\n    {\n      \"column\": \"Nome_Genero\",\n      \"properties\": {\n        \"dtype\": \"category\",\n        \"num_unique_values\": 2,\n        \"samples\": [\n          \"Masculino\",\n          \"Feminino\"\n        ],\n        \"semantic_type\": \"\",\n        \"description\": \"\"\n      }\n    },\n    {\n      \"column\": \"Nome_Etnia\",\n      \"properties\": {\n        \"dtype\": \"string\",\n        \"num_unique_values\": 3,\n        \"samples\": [\n          \"Afro-americano\",\n          \"Asi\\u00e1tico\"\n        ],\n        \"semantic_type\": \"\",\n        \"description\": \"\"\n      }\n    },\n    {\n      \"column\": \"Nome_Estado_Saude\",\n      \"properties\": {\n        \"dtype\": \"category\",\n        \"num_unique_values\": 2,\n        \"samples\": [\n          \"Saud\\u00e1vel\",\n          \"Com condi\\u00e7\\u00f5es de sa\\u00fade adicionais\"\n        ],\n        \"semantic_type\": \"\",\n        \"description\": \"\"\n      }\n    }\n  ]\n}"
            }
          },
          "metadata": {}
        }
      ]
    },
    {
      "cell_type": "markdown",
      "source": [
        "##**Questão 3**"
      ],
      "metadata": {
        "id": "hFH0Ye6_MiIX"
      }
    },
    {
      "cell_type": "code",
      "source": [
        "indices= ([909, 751, 402, 400, 726, 39, 184, 269, 255, 769, 209, 715, 677, 381, 793, 697,  89, 280, 232, 756, 358,  36, 439, 768, 967, 699, 473, 222,  89, 639, 883, 558, 757,  84, 907, 895, 217, 224, 311, 348, 146, 505, 273, 957, 362])\n",
        "\n",
        "idades_indices = df_pacientes.iloc[indices]\n",
        "\n",
        "base_saudavel = idades_indices.loc[idades_indices['Nome_Estado_Saude'] == 'Saudável']\n",
        "base_cardiaca = idades_indices.loc[idades_indices['Nome_Estado_Saude'] != 'Saudável']\n",
        "\n",
        "base_saudavel_idade= base_saudavel['Idade'].tolist()\n",
        "base_cardiaca_idade= base_cardiaca['Idade'].tolist()\n",
        "\n",
        "# Teste t para comparar as médias das idades\n",
        "resultado_teste_t = ttest_ind(base_cardiaca_idade, base_saudavel_idade)\n",
        "\n",
        "# Valor-p\n",
        "valor_p = resultado_teste_t.pvalue\n",
        "print(valor_p)\n",
        "\n",
        "# Nível de significância\n",
        "alpha = 0.05\n",
        "\n",
        "# Resultado do teste\n",
        "if valor_p < alpha:\n",
        "    print(\"Há evidências estatísticas para rejeitar a hipótese nula.\")\n",
        "else:\n",
        "    print(\"Não há evidências estatísticas para rejeitar a hipótese nula.\")\n",
        "\n"
      ],
      "metadata": {
        "colab": {
          "base_uri": "https://localhost:8080/"
        },
        "id": "v5qawVHYNa--",
        "outputId": "7bf7579d-0e9e-476a-c5b8-565cfec4733f"
      },
      "execution_count": null,
      "outputs": [
        {
          "output_type": "stream",
          "name": "stdout",
          "text": [
            "0.3373545880249039\n",
            "Não há evidências estatísticas para rejeitar a hipótese nula.\n"
          ]
        }
      ]
    },
    {
      "cell_type": "markdown",
      "source": [
        "###Como o p-valor é maior que 0.05 não podemos rejeitar H0, e então não há diferença entre os grupos estatisticamente diferentes. As pessoas saudáveis e com doenças cardiácas tem idades próximas."
      ],
      "metadata": {
        "id": "L2JRvIujdXBC"
      }
    },
    {
      "cell_type": "markdown",
      "source": [
        "##**Questão 4**"
      ],
      "metadata": {
        "id": "Jh3ygHzXdzff"
      }
    },
    {
      "cell_type": "code",
      "source": [
        "\n",
        "base_saudavel = df_pacientes.loc[df_pacientes['Nome_Estado_Saude'] == 'Saudável']\n",
        "base_cardiaca = df_pacientes.loc[df_pacientes['Nome_Estado_Saude'] != 'Saudável']\n",
        "\n",
        "\n",
        "mesmas_pessoas = ((set(base_saudavel['Nome_Genero']) == set(base_cardiaca['Nome_Genero'])) &\n",
        "                 (set(base_saudavel['Nome_Etnia']) == set(base_cardiaca['Nome_Etnia'])) &\n",
        "                 (set(base_saudavel['Idade']) == set(base_cardiaca['Idade'])) &\n",
        "                 (set(base_saudavel['Pressao_Arterial']) == set(base_cardiaca['Pressao_Arterial'])))\n",
        "\n",
        "print(mesmas_pessoas)\n",
        "\n"
      ],
      "metadata": {
        "colab": {
          "base_uri": "https://localhost:8080/"
        },
        "id": "U2_A1c8Fdgfj",
        "outputId": "3eff95dc-d2f5-4426-b7e0-81b26972ee82"
      },
      "execution_count": null,
      "outputs": [
        {
          "output_type": "stream",
          "name": "stdout",
          "text": [
            "False\n"
          ]
        }
      ]
    },
    {
      "cell_type": "markdown",
      "source": [
        "###As amostras são independentes. Pois, não temos as mesmas pessoas para ambas as amostras. Nesse caso, cada pessoa é atribuída a apenas um grupo (pessoas com condições de saúde adicionais ou pessoas saudáveis), e as características ou medidas de uma pessoa em um grupo não estão relacionadas às características ou medidas de outra pessoa no outro grupo."
      ],
      "metadata": {
        "id": "UD0D4nBvf1So"
      }
    },
    {
      "cell_type": "markdown",
      "source": [
        "##**Questão 5**"
      ],
      "metadata": {
        "id": "fYILmyjVgQVH"
      }
    },
    {
      "cell_type": "code",
      "source": [
        "indices_pa = ([690, 894,  67, 201, 364,  19,  60, 319, 588, 643, 855, 623, 530, 174, 105, 693,   6, 462, 973, 607, 811, 346, 354, 966, 943, 372])\n",
        "\n",
        "pa_indices = df_pacientes.iloc[indices_pa]\n",
        "\n",
        "base_saudavel = pa_indices.loc[pa_indices['Nome_Estado_Saude'] == 'Com condições de saúde adicionais']\n",
        "base_cardiaca = pa_indices.loc[pa_indices['Nome_Estado_Saude'] != 'Com condições de saúde adicionais']\n",
        "\n",
        "base_saudavel_pa= base_saudavel['Pressao_Arterial'].tolist()\n",
        "base_cardiaca_pa= base_cardiaca['Pressao_Arterial'].tolist()\n",
        "\n",
        "# Teste t para comparar a pressão arterial média\n",
        "resultado_teste_t = ttest_ind(base_cardiaca_pa, base_saudavel_pa)\n",
        "\n",
        "# valor-p\n",
        "valor_p = resultado_teste_t.pvalue\n",
        "\n",
        "print(valor_p)\n",
        "\n",
        "# nível de significância\n",
        "alpha = 0.06\n",
        "\n",
        "# Resultado do teste\n",
        "if valor_p < alpha:\n",
        "    print(\"Há evidências estatísticas para rejeitar a hipótese nula.\")\n",
        "else:\n",
        "    print(\"Não há evidências estatísticas para rejeitar a hipótese nula.\")\n",
        "\n",
        "\n"
      ],
      "metadata": {
        "colab": {
          "base_uri": "https://localhost:8080/"
        },
        "id": "wAnsNHUTgPuk",
        "outputId": "b8be2497-26c5-47d7-9f43-35f1bb5ec6f4"
      },
      "execution_count": null,
      "outputs": [
        {
          "output_type": "stream",
          "name": "stdout",
          "text": [
            "0.9359246016248415\n",
            "Não há evidências estatísticas para rejeitar a hipótese nula.\n"
          ]
        }
      ]
    },
    {
      "cell_type": "markdown",
      "source": [
        "###Como o p-valor é maior que 0.06 não podemos rejeitar H0, e então não há diferença entre os grupos estatisticamente diferentes. As pessoas saudáveis e com doenças cardiácas tem pressão arterial próximas."
      ],
      "metadata": {
        "id": "Ifjv6cnNiVL3"
      }
    },
    {
      "cell_type": "markdown",
      "source": [
        "##**Questão 6**"
      ],
      "metadata": {
        "id": "Ey89kqt8ifHj"
      }
    },
    {
      "cell_type": "code",
      "source": [
        "#Letra a)\n",
        "\n",
        "base_af = df_pacientes.loc[df_pacientes['Nome_Etnia'] == 'Afro-americano']\n",
        "base_as = df_pacientes.loc[df_pacientes['Nome_Etnia'] != 'Asiático']\n",
        "base_hi = df_pacientes.loc[df_pacientes['Nome_Etnia'] == 'Hispânico']\n",
        "base_ca = df_pacientes.loc[df_pacientes['Nome_Etnia'] != 'Caucasiano']\n",
        "\n",
        "Base_Et_AF= base_af['Pressao_Arterial'].tolist()\n",
        "Base_Et_AS= base_as['Pressao_Arterial'].tolist()\n",
        "Base_Et_HI= base_hi['Pressao_Arterial'].tolist()\n",
        "Base_Et_CA= base_ca['Pressao_Arterial'].tolist()\n",
        "\n",
        "# Teste ANOVA\n",
        "resultado_anova = f_oneway(Base_Et_AF, Base_Et_AS, Base_Et_HI, Base_Et_CA)\n",
        "\n",
        "# Valor-p\n",
        "valor_p = resultado_anova.pvalue\n",
        "\n",
        "# Nível de significância\n",
        "alpha = 0.05\n",
        "\n",
        "print(valor_p)\n",
        "\n",
        "# Resultado do teste\n",
        "if valor_p < alpha:\n",
        "    print(\"Há evidências estatísticas para rejeitar a hipótese nula.\")\n",
        "else:\n",
        "    print(\"Não há evidências estatísticas para rejeitar a hipótese nula.\")\n"
      ],
      "metadata": {
        "colab": {
          "base_uri": "https://localhost:8080/"
        },
        "id": "y9BBoCEWiiOM",
        "outputId": "52526122-66a8-4e47-956f-3eabc68c73e9"
      },
      "execution_count": null,
      "outputs": [
        {
          "output_type": "stream",
          "name": "stdout",
          "text": [
            "0.9735411938477544\n",
            "Não há evidências estatísticas para rejeitar a hipótese nula.\n"
          ]
        }
      ]
    },
    {
      "cell_type": "markdown",
      "source": [
        "###Como o p-valor é maior que 0.05 não podemos rejeitar H0, e então não há diferença entre os grupos estatisticamente diferentes. A pressão arterial média é a mesma em todos os grupos étnicos."
      ],
      "metadata": {
        "id": "a1SjHTXIl94H"
      }
    },
    {
      "cell_type": "code",
      "source": [
        "#Letra b)\n",
        "\n",
        "coeficiente_correlacao = df_pacientes['Idade'].corr(df_pacientes['Pressao_Arterial'])\n",
        "print(coeficiente_correlacao)\n"
      ],
      "metadata": {
        "colab": {
          "base_uri": "https://localhost:8080/"
        },
        "id": "QKnN05fki2oA",
        "outputId": "9aa37c5d-b967-4e06-bd33-5b3b6eb0f673"
      },
      "execution_count": null,
      "outputs": [
        {
          "output_type": "stream",
          "name": "stdout",
          "text": [
            "-0.021385356934648957\n"
          ]
        }
      ]
    },
    {
      "cell_type": "markdown",
      "source": [
        "###A correlação é menor que zero, significa que é negativo, isto é, que as variáveis são inversamente relacionadas. Mas essa correlação é tão próxima de zero que não é considerada significativa. Portanto, com base nesse coeficiente de correlação, não parece haver uma associação linear clara entre a idade dos pacientes e sua pressão arterial. Assim, Hipótese Nula (H0): A idade dos pacientes é independente da pressão arterial.\n",
        "\n",
        "\n",
        "\n",
        "\n",
        "\n",
        "\n"
      ],
      "metadata": {
        "id": "gBjEuTv-oV_5"
      }
    },
    {
      "cell_type": "code",
      "source": [
        "#Letra c)\n",
        "print(\"Não há evidências estatísticas para rejeitar a hipótese nula.\")"
      ],
      "metadata": {
        "colab": {
          "base_uri": "https://localhost:8080/"
        },
        "id": "ywo1ntC_i460",
        "outputId": "1b013e8f-0d25-4f5e-d8f2-53e9b60618d6"
      },
      "execution_count": null,
      "outputs": [
        {
          "output_type": "stream",
          "name": "stdout",
          "text": [
            "Não há evidências estatísticas para rejeitar a hipótese nula.\n"
          ]
        }
      ]
    },
    {
      "cell_type": "markdown",
      "source": [
        "##**Questão 7**"
      ],
      "metadata": {
        "id": "TqnJg4WJi7Ox"
      }
    },
    {
      "cell_type": "code",
      "source": [
        "\n",
        "# Tabela de contingência\n",
        "tabela_contingencia = pd.crosstab(df_pacientes['Nome_Genero'], (df_pacientes['Nome_Estado_Saude'] == 'Com condições de saúde adicionais'))\n",
        "\n",
        "# Realizar o teste do qui-quadrado\n",
        "chi2, p_valor, graus_liberdade, esperado = chi2_contingency(tabela_contingencia)\n",
        "\n",
        "# Nível de significância\n",
        "alpha = 0.05\n",
        "\n",
        "print(valor_p)\n",
        "\n",
        "# Resultado do teste\n",
        "if valor_p < alpha:\n",
        "    print(\"Há evidências estatísticas para rejeitar a hipótese nula.\")\n",
        "else:\n",
        "    print(\"Não há evidências estatísticas para rejeitar a hipótese nula.\")\n"
      ],
      "metadata": {
        "colab": {
          "base_uri": "https://localhost:8080/"
        },
        "id": "CWWpyVQErxka",
        "outputId": "7cdc796f-f234-49ad-8f4c-5a4788ab4660"
      },
      "execution_count": null,
      "outputs": [
        {
          "output_type": "stream",
          "name": "stdout",
          "text": [
            "0.9735411938477544\n",
            "Não há evidências estatísticas para rejeitar a hipótese nula.\n"
          ]
        }
      ]
    },
    {
      "cell_type": "markdown",
      "source": [
        "###Como o p-valor é maior que 0.05 não podemos rejeitar H0, e então não há diferença entre os grupos estatisticamente diferentes. Não há uma relação entre o sexo e condições de saúde adicionais."
      ],
      "metadata": {
        "id": "TaC6sxKoy0oc"
      }
    },
    {
      "cell_type": "markdown",
      "source": [
        "## **Questão 8**"
      ],
      "metadata": {
        "id": "HFuqOYZIjAoS"
      }
    },
    {
      "cell_type": "code",
      "source": [
        "df_saude_adicional= df_pacientes.loc[df_pacientes['Nome_Estado_Saude'] == 'Com condições de saúde adicionais']\n",
        "\n",
        "media = df_saude_adicional['Pressao_Arterial'].mean()\n",
        "desvio_padrao= df_saude_adicional['Pressao_Arterial'].std()\n",
        "\n",
        "tamanho_amostra = len(df_saude_adicional)\n",
        "\n",
        "graus_liberdade = tamanho_amostra - 1\n",
        "\n",
        "nivel_confianca = 0.95\n",
        "\n",
        "# Valor crítico da distribuição t de Student\n",
        "valor_critico = t.ppf((1 + nivel_confianca) / 2, graus_liberdade)\n",
        "\n",
        "erro_padrao_media = desvio_padrao / np.sqrt(tamanho_amostra)\n",
        "\n",
        "# Intervalo de confiança\n",
        "limite_inferior = media - valor_critico * erro_padrao_media\n",
        "limite_superior = media + valor_critico * erro_padrao_media\n",
        "\n",
        "# Exibindo o intervalo de confiança\n",
        "print(\"Intervalo de Confiança para a Média da Pressão Arterial:\")\n",
        "print(\"Limite Inferior:\", round(limite_inferior, 2))\n",
        "print(\"Limite Superior:\", round(limite_superior,2))"
      ],
      "metadata": {
        "colab": {
          "base_uri": "https://localhost:8080/"
        },
        "id": "CLq7j7KnzAo8",
        "outputId": "2b2b779f-b0be-4bf2-8ffb-6c45bc9c1a6c"
      },
      "execution_count": null,
      "outputs": [
        {
          "output_type": "stream",
          "name": "stdout",
          "text": [
            "Intervalo de Confiança para a Média da Pressão Arterial:\n",
            "Limite Inferior: 149.22\n",
            "Limite Superior: 151.02\n"
          ]
        }
      ]
    },
    {
      "cell_type": "markdown",
      "source": [
        "##**Questão 9**"
      ],
      "metadata": {
        "id": "-rmUEPsijDav"
      }
    },
    {
      "cell_type": "code",
      "source": [
        "# Teste de Shapiro-Wilk\n",
        "stat_shapiro, p_valor_shapiro = shapiro(df_pacientes['Pressao_Arterial'])\n",
        "\n",
        "print( p_valor_shapiro)\n",
        "\n",
        "# Exibindo o resultado do teste\n",
        "if p_valor_shapiro < 0.05:\n",
        "    print(\"Rejeitamos a hipótese nula. A distribuição da pressão arterial na população não segue uma distribuição normal.\")\n",
        "else:\n",
        "    print(\"Não rejeitamos a hipótese nula. A distribuição da pressão arterial na população segue uma distribuição normal.\")"
      ],
      "metadata": {
        "colab": {
          "base_uri": "https://localhost:8080/"
        },
        "id": "uO5QZqOiUjek",
        "outputId": "7abc4190-41e1-48e4-bb3d-ce299e3cded8"
      },
      "execution_count": null,
      "outputs": [
        {
          "output_type": "stream",
          "name": "stdout",
          "text": [
            "0.06068389490246773\n",
            "Não rejeitamos a hipótese nula. A distribuição da pressão arterial na população segue uma distribuição normal.\n"
          ]
        }
      ]
    },
    {
      "cell_type": "markdown",
      "source": [
        "### Como o p-valor é maior que 0.05 não podemos rejeitar H0, e então não há diferença entre os grupos estatisticamente diferentes. A distribuição da pressão arterial na população segue uma distribuição normal."
      ],
      "metadata": {
        "id": "JsFr2t7BVkLr"
      }
    }
  ]
}